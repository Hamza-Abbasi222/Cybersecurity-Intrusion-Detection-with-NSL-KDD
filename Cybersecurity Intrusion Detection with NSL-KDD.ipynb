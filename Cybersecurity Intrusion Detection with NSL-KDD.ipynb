{
  "cells": [
    {
      "cell_type": "markdown",
      "metadata": {
        "id": "LA9LW8sZUdSS"
      },
      "source": [
        "# New Section\n",
        "# Data Pre Processing"
      ]
    },
    {
      "cell_type": "code",
      "execution_count": null,
      "metadata": {
        "id": "xySm7JvzjpCD"
      },
      "outputs": [],
      "source": [
        "# data cleaning and plots\n",
        "import pandas as pd\n",
        "import numpy as np\n",
        "import seaborn as sns\n",
        "import matplotlib.pyplot as plt\n",
        "plt.style.use('ggplot')\n",
        "%matplotlib inline\n",
        "\n",
        "# sklearn: data preprocessing\n",
        "from sklearn.compose import ColumnTransformer\n",
        "from sklearn.preprocessing import StandardScaler, LabelEncoder, OneHotEncoder\n",
        "\n",
        "# sklearn: train model\n",
        "from sklearn.model_selection import train_test_split\n",
        "from sklearn.model_selection import cross_val_score, cross_validate, StratifiedKFold\n",
        "from sklearn.metrics import precision_recall_curve, precision_score, recall_score, f1_score, accuracy_score\n",
        "from sklearn.metrics import roc_curve, auc, roc_auc_score, confusion_matrix, classification_report\n"
      ]
    },
    {
      "cell_type": "code",
      "execution_count": null,
      "metadata": {
        "colab": {
          "base_uri": "https://localhost:8080/"
        },
        "id": "_iK9LLHfjpCE",
        "outputId": "d7044fdd-af36-4e79-e2f1-8604de1cc53f"
      },
      "outputs": [
        {
          "name": "stdout",
          "output_type": "stream",
          "text": [
            "Mounted at /content/drive\n"
          ]
        }
      ],
      "source": [
        "import pandas as pd\n",
        "import numpy as np\n",
        "from sklearn.model_selection import train_test_split\n",
        "from sklearn.preprocessing import StandardScaler\n",
        "from sklearn.feature_selection import SelectKBest, f_classif\n",
        "from keras.models import Sequential\n",
        "from keras.layers import Dense, Conv1D, MaxPooling1D, Flatten, Dropout\n",
        "from keras.optimizers import Adam\n",
        "from keras.callbacks import EarlyStopping\n",
        "from google.colab import drive\n",
        "drive.mount('/content/drive')"
      ]
    },
    {
      "cell_type": "code",
      "execution_count": null,
      "metadata": {
        "id": "BPTCVPinjpCF"
      },
      "outputs": [],
      "source": [
        "data_KDDTrain = pd.read_csv('/content/drive/MyDrive/ML on Cyber Security Dataset/UNBI dataset/NSL-KDD/KDDTrain+.txt')\n",
        "data = data_KDDTrain"
      ]
    },
    {
      "cell_type": "code",
      "execution_count": null,
      "metadata": {
        "colab": {
          "base_uri": "https://localhost:8080/",
          "height": 236
        },
        "id": "DJa1wOAQU7K1",
        "outputId": "e9e5739b-076c-4775-cf7a-a1f658bae235"
      },
      "outputs": [
        {
          "data": {
            "text/html": [
              "\n",
              "  <div id=\"df-3d27f713-fe78-40bb-9b58-c6cbd9b35b9b\">\n",
              "    <div class=\"colab-df-container\">\n",
              "      <div>\n",
              "<style scoped>\n",
              "    .dataframe tbody tr th:only-of-type {\n",
              "        vertical-align: middle;\n",
              "    }\n",
              "\n",
              "    .dataframe tbody tr th {\n",
              "        vertical-align: top;\n",
              "    }\n",
              "\n",
              "    .dataframe thead th {\n",
              "        text-align: right;\n",
              "    }\n",
              "</style>\n",
              "<table border=\"1\" class=\"dataframe\">\n",
              "  <thead>\n",
              "    <tr style=\"text-align: right;\">\n",
              "      <th></th>\n",
              "      <th>0</th>\n",
              "      <th>tcp</th>\n",
              "      <th>ftp_data</th>\n",
              "      <th>SF</th>\n",
              "      <th>491</th>\n",
              "      <th>0.1</th>\n",
              "      <th>0.2</th>\n",
              "      <th>0.3</th>\n",
              "      <th>0.4</th>\n",
              "      <th>0.5</th>\n",
              "      <th>...</th>\n",
              "      <th>0.17</th>\n",
              "      <th>0.03</th>\n",
              "      <th>0.17.1</th>\n",
              "      <th>0.00.6</th>\n",
              "      <th>0.00.7</th>\n",
              "      <th>0.00.8</th>\n",
              "      <th>0.05</th>\n",
              "      <th>0.00.9</th>\n",
              "      <th>normal</th>\n",
              "      <th>20</th>\n",
              "    </tr>\n",
              "  </thead>\n",
              "  <tbody>\n",
              "    <tr>\n",
              "      <th>0</th>\n",
              "      <td>0</td>\n",
              "      <td>udp</td>\n",
              "      <td>other</td>\n",
              "      <td>SF</td>\n",
              "      <td>146</td>\n",
              "      <td>0</td>\n",
              "      <td>0</td>\n",
              "      <td>0</td>\n",
              "      <td>0</td>\n",
              "      <td>0</td>\n",
              "      <td>...</td>\n",
              "      <td>0.00</td>\n",
              "      <td>0.60</td>\n",
              "      <td>0.88</td>\n",
              "      <td>0.00</td>\n",
              "      <td>0.00</td>\n",
              "      <td>0.00</td>\n",
              "      <td>0.0</td>\n",
              "      <td>0.00</td>\n",
              "      <td>normal</td>\n",
              "      <td>15</td>\n",
              "    </tr>\n",
              "    <tr>\n",
              "      <th>1</th>\n",
              "      <td>0</td>\n",
              "      <td>tcp</td>\n",
              "      <td>private</td>\n",
              "      <td>S0</td>\n",
              "      <td>0</td>\n",
              "      <td>0</td>\n",
              "      <td>0</td>\n",
              "      <td>0</td>\n",
              "      <td>0</td>\n",
              "      <td>0</td>\n",
              "      <td>...</td>\n",
              "      <td>0.10</td>\n",
              "      <td>0.05</td>\n",
              "      <td>0.00</td>\n",
              "      <td>0.00</td>\n",
              "      <td>1.00</td>\n",
              "      <td>1.00</td>\n",
              "      <td>0.0</td>\n",
              "      <td>0.00</td>\n",
              "      <td>neptune</td>\n",
              "      <td>19</td>\n",
              "    </tr>\n",
              "    <tr>\n",
              "      <th>2</th>\n",
              "      <td>0</td>\n",
              "      <td>tcp</td>\n",
              "      <td>http</td>\n",
              "      <td>SF</td>\n",
              "      <td>232</td>\n",
              "      <td>8153</td>\n",
              "      <td>0</td>\n",
              "      <td>0</td>\n",
              "      <td>0</td>\n",
              "      <td>0</td>\n",
              "      <td>...</td>\n",
              "      <td>1.00</td>\n",
              "      <td>0.00</td>\n",
              "      <td>0.03</td>\n",
              "      <td>0.04</td>\n",
              "      <td>0.03</td>\n",
              "      <td>0.01</td>\n",
              "      <td>0.0</td>\n",
              "      <td>0.01</td>\n",
              "      <td>normal</td>\n",
              "      <td>21</td>\n",
              "    </tr>\n",
              "    <tr>\n",
              "      <th>3</th>\n",
              "      <td>0</td>\n",
              "      <td>tcp</td>\n",
              "      <td>http</td>\n",
              "      <td>SF</td>\n",
              "      <td>199</td>\n",
              "      <td>420</td>\n",
              "      <td>0</td>\n",
              "      <td>0</td>\n",
              "      <td>0</td>\n",
              "      <td>0</td>\n",
              "      <td>...</td>\n",
              "      <td>1.00</td>\n",
              "      <td>0.00</td>\n",
              "      <td>0.00</td>\n",
              "      <td>0.00</td>\n",
              "      <td>0.00</td>\n",
              "      <td>0.00</td>\n",
              "      <td>0.0</td>\n",
              "      <td>0.00</td>\n",
              "      <td>normal</td>\n",
              "      <td>21</td>\n",
              "    </tr>\n",
              "    <tr>\n",
              "      <th>4</th>\n",
              "      <td>0</td>\n",
              "      <td>tcp</td>\n",
              "      <td>private</td>\n",
              "      <td>REJ</td>\n",
              "      <td>0</td>\n",
              "      <td>0</td>\n",
              "      <td>0</td>\n",
              "      <td>0</td>\n",
              "      <td>0</td>\n",
              "      <td>0</td>\n",
              "      <td>...</td>\n",
              "      <td>0.07</td>\n",
              "      <td>0.07</td>\n",
              "      <td>0.00</td>\n",
              "      <td>0.00</td>\n",
              "      <td>0.00</td>\n",
              "      <td>0.00</td>\n",
              "      <td>1.0</td>\n",
              "      <td>1.00</td>\n",
              "      <td>neptune</td>\n",
              "      <td>21</td>\n",
              "    </tr>\n",
              "  </tbody>\n",
              "</table>\n",
              "<p>5 rows × 43 columns</p>\n",
              "</div>\n",
              "      <button class=\"colab-df-convert\" onclick=\"convertToInteractive('df-3d27f713-fe78-40bb-9b58-c6cbd9b35b9b')\"\n",
              "              title=\"Convert this dataframe to an interactive table.\"\n",
              "              style=\"display:none;\">\n",
              "        \n",
              "  <svg xmlns=\"http://www.w3.org/2000/svg\" height=\"24px\"viewBox=\"0 0 24 24\"\n",
              "       width=\"24px\">\n",
              "    <path d=\"M0 0h24v24H0V0z\" fill=\"none\"/>\n",
              "    <path d=\"M18.56 5.44l.94 2.06.94-2.06 2.06-.94-2.06-.94-.94-2.06-.94 2.06-2.06.94zm-11 1L8.5 8.5l.94-2.06 2.06-.94-2.06-.94L8.5 2.5l-.94 2.06-2.06.94zm10 10l.94 2.06.94-2.06 2.06-.94-2.06-.94-.94-2.06-.94 2.06-2.06.94z\"/><path d=\"M17.41 7.96l-1.37-1.37c-.4-.4-.92-.59-1.43-.59-.52 0-1.04.2-1.43.59L10.3 9.45l-7.72 7.72c-.78.78-.78 2.05 0 2.83L4 21.41c.39.39.9.59 1.41.59.51 0 1.02-.2 1.41-.59l7.78-7.78 2.81-2.81c.8-.78.8-2.07 0-2.86zM5.41 20L4 18.59l7.72-7.72 1.47 1.35L5.41 20z\"/>\n",
              "  </svg>\n",
              "      </button>\n",
              "      \n",
              "  <style>\n",
              "    .colab-df-container {\n",
              "      display:flex;\n",
              "      flex-wrap:wrap;\n",
              "      gap: 12px;\n",
              "    }\n",
              "\n",
              "    .colab-df-convert {\n",
              "      background-color: #E8F0FE;\n",
              "      border: none;\n",
              "      border-radius: 50%;\n",
              "      cursor: pointer;\n",
              "      display: none;\n",
              "      fill: #1967D2;\n",
              "      height: 32px;\n",
              "      padding: 0 0 0 0;\n",
              "      width: 32px;\n",
              "    }\n",
              "\n",
              "    .colab-df-convert:hover {\n",
              "      background-color: #E2EBFA;\n",
              "      box-shadow: 0px 1px 2px rgba(60, 64, 67, 0.3), 0px 1px 3px 1px rgba(60, 64, 67, 0.15);\n",
              "      fill: #174EA6;\n",
              "    }\n",
              "\n",
              "    [theme=dark] .colab-df-convert {\n",
              "      background-color: #3B4455;\n",
              "      fill: #D2E3FC;\n",
              "    }\n",
              "\n",
              "    [theme=dark] .colab-df-convert:hover {\n",
              "      background-color: #434B5C;\n",
              "      box-shadow: 0px 1px 3px 1px rgba(0, 0, 0, 0.15);\n",
              "      filter: drop-shadow(0px 1px 2px rgba(0, 0, 0, 0.3));\n",
              "      fill: #FFFFFF;\n",
              "    }\n",
              "  </style>\n",
              "\n",
              "      <script>\n",
              "        const buttonEl =\n",
              "          document.querySelector('#df-3d27f713-fe78-40bb-9b58-c6cbd9b35b9b button.colab-df-convert');\n",
              "        buttonEl.style.display =\n",
              "          google.colab.kernel.accessAllowed ? 'block' : 'none';\n",
              "\n",
              "        async function convertToInteractive(key) {\n",
              "          const element = document.querySelector('#df-3d27f713-fe78-40bb-9b58-c6cbd9b35b9b');\n",
              "          const dataTable =\n",
              "            await google.colab.kernel.invokeFunction('convertToInteractive',\n",
              "                                                     [key], {});\n",
              "          if (!dataTable) return;\n",
              "\n",
              "          const docLinkHtml = 'Like what you see? Visit the ' +\n",
              "            '<a target=\"_blank\" href=https://colab.research.google.com/notebooks/data_table.ipynb>data table notebook</a>'\n",
              "            + ' to learn more about interactive tables.';\n",
              "          element.innerHTML = '';\n",
              "          dataTable['output_type'] = 'display_data';\n",
              "          await google.colab.output.renderOutput(dataTable, element);\n",
              "          const docLink = document.createElement('div');\n",
              "          docLink.innerHTML = docLinkHtml;\n",
              "          element.appendChild(docLink);\n",
              "        }\n",
              "      </script>\n",
              "    </div>\n",
              "  </div>\n",
              "  "
            ],
            "text/plain": [
              "   0  tcp ftp_data   SF  491   0.1  0.2  0.3  0.4  0.5  ...  0.17  0.03  \\\n",
              "0  0  udp    other   SF  146     0    0    0    0    0  ...  0.00  0.60   \n",
              "1  0  tcp  private   S0    0     0    0    0    0    0  ...  0.10  0.05   \n",
              "2  0  tcp     http   SF  232  8153    0    0    0    0  ...  1.00  0.00   \n",
              "3  0  tcp     http   SF  199   420    0    0    0    0  ...  1.00  0.00   \n",
              "4  0  tcp  private  REJ    0     0    0    0    0    0  ...  0.07  0.07   \n",
              "\n",
              "   0.17.1  0.00.6  0.00.7  0.00.8  0.05  0.00.9   normal  20  \n",
              "0    0.88    0.00    0.00    0.00   0.0    0.00   normal  15  \n",
              "1    0.00    0.00    1.00    1.00   0.0    0.00  neptune  19  \n",
              "2    0.03    0.04    0.03    0.01   0.0    0.01   normal  21  \n",
              "3    0.00    0.00    0.00    0.00   0.0    0.00   normal  21  \n",
              "4    0.00    0.00    0.00    0.00   1.0    1.00  neptune  21  \n",
              "\n",
              "[5 rows x 43 columns]"
            ]
          },
          "execution_count": 4,
          "metadata": {},
          "output_type": "execute_result"
        }
      ],
      "source": [
        "data.head()"
      ]
    },
    {
      "cell_type": "code",
      "execution_count": null,
      "metadata": {
        "colab": {
          "base_uri": "https://localhost:8080/"
        },
        "id": "sLEJzu2fUenq",
        "outputId": "4b5c40e2-9c7c-4386-d494-486881cc4c24"
      },
      "outputs": [
        {
          "name": "stdout",
          "output_type": "stream",
          "text": [
            "Normal    67342\n",
            "DoS       45927\n",
            "Probe     11656\n",
            "R2L        1005\n",
            "U2R          42\n",
            "Name: category, dtype: int64\n"
          ]
        }
      ],
      "source": [
        "# Define the mapping for categorization\n",
        "category_mapping = {\n",
        "    'normal': 'Normal',\n",
        "    'neptune': 'DoS',\n",
        "    'warezclient': 'R2L',\n",
        "    'ipsweep': 'Probe',\n",
        "    'portsweep': 'Probe',\n",
        "    'teardrop': 'DoS',\n",
        "    'nmap': 'Probe',\n",
        "    'satan': 'Probe',\n",
        "    'smurf': 'DoS',\n",
        "    'pod': 'DoS',\n",
        "    'back': 'DoS',\n",
        "    'guess_passwd': 'R2L',\n",
        "    'ftp_write': 'R2L',\n",
        "    'multihop': 'R2L',\n",
        "    'rootkit': 'R2L',\n",
        "    'buffer_overflow': 'U2R',\n",
        "    'imap': 'R2L',\n",
        "    'warezmaster': 'R2L',\n",
        "    'phf': 'R2L',\n",
        "    'land': 'DoS',\n",
        "    'loadmodule': 'U2R',\n",
        "    'spy': 'R2L',\n",
        "    'perl': 'U2R'\n",
        "}\n",
        "\n",
        "# Apply the categorization mapping to create a new column 'category'\n",
        "data['category'] = data['normal'].map(category_mapping)\n",
        "\n",
        "# Get the counts of instances in each category\n",
        "category_counts = data['category'].value_counts()\n",
        "\n",
        "# Print the category counts\n",
        "print(category_counts)\n"
      ]
    },
    {
      "cell_type": "code",
      "execution_count": null,
      "metadata": {
        "colab": {
          "base_uri": "https://localhost:8080/",
          "height": 236
        },
        "id": "yOAxYtZoqsIO",
        "outputId": "fc08d7d3-fa15-4ae3-e676-53ae08ae6b4a"
      },
      "outputs": [
        {
          "data": {
            "text/html": [
              "\n",
              "  <div id=\"df-2425f553-04ba-4d96-86a4-9e1abd3ce78c\">\n",
              "    <div class=\"colab-df-container\">\n",
              "      <div>\n",
              "<style scoped>\n",
              "    .dataframe tbody tr th:only-of-type {\n",
              "        vertical-align: middle;\n",
              "    }\n",
              "\n",
              "    .dataframe tbody tr th {\n",
              "        vertical-align: top;\n",
              "    }\n",
              "\n",
              "    .dataframe thead th {\n",
              "        text-align: right;\n",
              "    }\n",
              "</style>\n",
              "<table border=\"1\" class=\"dataframe\">\n",
              "  <thead>\n",
              "    <tr style=\"text-align: right;\">\n",
              "      <th></th>\n",
              "      <th>0</th>\n",
              "      <th>tcp</th>\n",
              "      <th>ftp_data</th>\n",
              "      <th>SF</th>\n",
              "      <th>491</th>\n",
              "      <th>0.1</th>\n",
              "      <th>0.2</th>\n",
              "      <th>0.3</th>\n",
              "      <th>0.4</th>\n",
              "      <th>0.5</th>\n",
              "      <th>...</th>\n",
              "      <th>0.03</th>\n",
              "      <th>0.17.1</th>\n",
              "      <th>0.00.6</th>\n",
              "      <th>0.00.7</th>\n",
              "      <th>0.00.8</th>\n",
              "      <th>0.05</th>\n",
              "      <th>0.00.9</th>\n",
              "      <th>normal</th>\n",
              "      <th>20</th>\n",
              "      <th>category</th>\n",
              "    </tr>\n",
              "  </thead>\n",
              "  <tbody>\n",
              "    <tr>\n",
              "      <th>0</th>\n",
              "      <td>0</td>\n",
              "      <td>udp</td>\n",
              "      <td>other</td>\n",
              "      <td>SF</td>\n",
              "      <td>146</td>\n",
              "      <td>0</td>\n",
              "      <td>0</td>\n",
              "      <td>0</td>\n",
              "      <td>0</td>\n",
              "      <td>0</td>\n",
              "      <td>...</td>\n",
              "      <td>0.60</td>\n",
              "      <td>0.88</td>\n",
              "      <td>0.00</td>\n",
              "      <td>0.00</td>\n",
              "      <td>0.00</td>\n",
              "      <td>0.0</td>\n",
              "      <td>0.00</td>\n",
              "      <td>normal</td>\n",
              "      <td>15</td>\n",
              "      <td>Normal</td>\n",
              "    </tr>\n",
              "    <tr>\n",
              "      <th>1</th>\n",
              "      <td>0</td>\n",
              "      <td>tcp</td>\n",
              "      <td>private</td>\n",
              "      <td>S0</td>\n",
              "      <td>0</td>\n",
              "      <td>0</td>\n",
              "      <td>0</td>\n",
              "      <td>0</td>\n",
              "      <td>0</td>\n",
              "      <td>0</td>\n",
              "      <td>...</td>\n",
              "      <td>0.05</td>\n",
              "      <td>0.00</td>\n",
              "      <td>0.00</td>\n",
              "      <td>1.00</td>\n",
              "      <td>1.00</td>\n",
              "      <td>0.0</td>\n",
              "      <td>0.00</td>\n",
              "      <td>neptune</td>\n",
              "      <td>19</td>\n",
              "      <td>DoS</td>\n",
              "    </tr>\n",
              "    <tr>\n",
              "      <th>2</th>\n",
              "      <td>0</td>\n",
              "      <td>tcp</td>\n",
              "      <td>http</td>\n",
              "      <td>SF</td>\n",
              "      <td>232</td>\n",
              "      <td>8153</td>\n",
              "      <td>0</td>\n",
              "      <td>0</td>\n",
              "      <td>0</td>\n",
              "      <td>0</td>\n",
              "      <td>...</td>\n",
              "      <td>0.00</td>\n",
              "      <td>0.03</td>\n",
              "      <td>0.04</td>\n",
              "      <td>0.03</td>\n",
              "      <td>0.01</td>\n",
              "      <td>0.0</td>\n",
              "      <td>0.01</td>\n",
              "      <td>normal</td>\n",
              "      <td>21</td>\n",
              "      <td>Normal</td>\n",
              "    </tr>\n",
              "    <tr>\n",
              "      <th>3</th>\n",
              "      <td>0</td>\n",
              "      <td>tcp</td>\n",
              "      <td>http</td>\n",
              "      <td>SF</td>\n",
              "      <td>199</td>\n",
              "      <td>420</td>\n",
              "      <td>0</td>\n",
              "      <td>0</td>\n",
              "      <td>0</td>\n",
              "      <td>0</td>\n",
              "      <td>...</td>\n",
              "      <td>0.00</td>\n",
              "      <td>0.00</td>\n",
              "      <td>0.00</td>\n",
              "      <td>0.00</td>\n",
              "      <td>0.00</td>\n",
              "      <td>0.0</td>\n",
              "      <td>0.00</td>\n",
              "      <td>normal</td>\n",
              "      <td>21</td>\n",
              "      <td>Normal</td>\n",
              "    </tr>\n",
              "    <tr>\n",
              "      <th>4</th>\n",
              "      <td>0</td>\n",
              "      <td>tcp</td>\n",
              "      <td>private</td>\n",
              "      <td>REJ</td>\n",
              "      <td>0</td>\n",
              "      <td>0</td>\n",
              "      <td>0</td>\n",
              "      <td>0</td>\n",
              "      <td>0</td>\n",
              "      <td>0</td>\n",
              "      <td>...</td>\n",
              "      <td>0.07</td>\n",
              "      <td>0.00</td>\n",
              "      <td>0.00</td>\n",
              "      <td>0.00</td>\n",
              "      <td>0.00</td>\n",
              "      <td>1.0</td>\n",
              "      <td>1.00</td>\n",
              "      <td>neptune</td>\n",
              "      <td>21</td>\n",
              "      <td>DoS</td>\n",
              "    </tr>\n",
              "  </tbody>\n",
              "</table>\n",
              "<p>5 rows × 44 columns</p>\n",
              "</div>\n",
              "      <button class=\"colab-df-convert\" onclick=\"convertToInteractive('df-2425f553-04ba-4d96-86a4-9e1abd3ce78c')\"\n",
              "              title=\"Convert this dataframe to an interactive table.\"\n",
              "              style=\"display:none;\">\n",
              "        \n",
              "  <svg xmlns=\"http://www.w3.org/2000/svg\" height=\"24px\"viewBox=\"0 0 24 24\"\n",
              "       width=\"24px\">\n",
              "    <path d=\"M0 0h24v24H0V0z\" fill=\"none\"/>\n",
              "    <path d=\"M18.56 5.44l.94 2.06.94-2.06 2.06-.94-2.06-.94-.94-2.06-.94 2.06-2.06.94zm-11 1L8.5 8.5l.94-2.06 2.06-.94-2.06-.94L8.5 2.5l-.94 2.06-2.06.94zm10 10l.94 2.06.94-2.06 2.06-.94-2.06-.94-.94-2.06-.94 2.06-2.06.94z\"/><path d=\"M17.41 7.96l-1.37-1.37c-.4-.4-.92-.59-1.43-.59-.52 0-1.04.2-1.43.59L10.3 9.45l-7.72 7.72c-.78.78-.78 2.05 0 2.83L4 21.41c.39.39.9.59 1.41.59.51 0 1.02-.2 1.41-.59l7.78-7.78 2.81-2.81c.8-.78.8-2.07 0-2.86zM5.41 20L4 18.59l7.72-7.72 1.47 1.35L5.41 20z\"/>\n",
              "  </svg>\n",
              "      </button>\n",
              "      \n",
              "  <style>\n",
              "    .colab-df-container {\n",
              "      display:flex;\n",
              "      flex-wrap:wrap;\n",
              "      gap: 12px;\n",
              "    }\n",
              "\n",
              "    .colab-df-convert {\n",
              "      background-color: #E8F0FE;\n",
              "      border: none;\n",
              "      border-radius: 50%;\n",
              "      cursor: pointer;\n",
              "      display: none;\n",
              "      fill: #1967D2;\n",
              "      height: 32px;\n",
              "      padding: 0 0 0 0;\n",
              "      width: 32px;\n",
              "    }\n",
              "\n",
              "    .colab-df-convert:hover {\n",
              "      background-color: #E2EBFA;\n",
              "      box-shadow: 0px 1px 2px rgba(60, 64, 67, 0.3), 0px 1px 3px 1px rgba(60, 64, 67, 0.15);\n",
              "      fill: #174EA6;\n",
              "    }\n",
              "\n",
              "    [theme=dark] .colab-df-convert {\n",
              "      background-color: #3B4455;\n",
              "      fill: #D2E3FC;\n",
              "    }\n",
              "\n",
              "    [theme=dark] .colab-df-convert:hover {\n",
              "      background-color: #434B5C;\n",
              "      box-shadow: 0px 1px 3px 1px rgba(0, 0, 0, 0.15);\n",
              "      filter: drop-shadow(0px 1px 2px rgba(0, 0, 0, 0.3));\n",
              "      fill: #FFFFFF;\n",
              "    }\n",
              "  </style>\n",
              "\n",
              "      <script>\n",
              "        const buttonEl =\n",
              "          document.querySelector('#df-2425f553-04ba-4d96-86a4-9e1abd3ce78c button.colab-df-convert');\n",
              "        buttonEl.style.display =\n",
              "          google.colab.kernel.accessAllowed ? 'block' : 'none';\n",
              "\n",
              "        async function convertToInteractive(key) {\n",
              "          const element = document.querySelector('#df-2425f553-04ba-4d96-86a4-9e1abd3ce78c');\n",
              "          const dataTable =\n",
              "            await google.colab.kernel.invokeFunction('convertToInteractive',\n",
              "                                                     [key], {});\n",
              "          if (!dataTable) return;\n",
              "\n",
              "          const docLinkHtml = 'Like what you see? Visit the ' +\n",
              "            '<a target=\"_blank\" href=https://colab.research.google.com/notebooks/data_table.ipynb>data table notebook</a>'\n",
              "            + ' to learn more about interactive tables.';\n",
              "          element.innerHTML = '';\n",
              "          dataTable['output_type'] = 'display_data';\n",
              "          await google.colab.output.renderOutput(dataTable, element);\n",
              "          const docLink = document.createElement('div');\n",
              "          docLink.innerHTML = docLinkHtml;\n",
              "          element.appendChild(docLink);\n",
              "        }\n",
              "      </script>\n",
              "    </div>\n",
              "  </div>\n",
              "  "
            ],
            "text/plain": [
              "   0  tcp ftp_data   SF  491   0.1  0.2  0.3  0.4  0.5  ...  0.03  0.17.1  \\\n",
              "0  0  udp    other   SF  146     0    0    0    0    0  ...  0.60    0.88   \n",
              "1  0  tcp  private   S0    0     0    0    0    0    0  ...  0.05    0.00   \n",
              "2  0  tcp     http   SF  232  8153    0    0    0    0  ...  0.00    0.03   \n",
              "3  0  tcp     http   SF  199   420    0    0    0    0  ...  0.00    0.00   \n",
              "4  0  tcp  private  REJ    0     0    0    0    0    0  ...  0.07    0.00   \n",
              "\n",
              "   0.00.6  0.00.7  0.00.8  0.05  0.00.9   normal  20  category  \n",
              "0    0.00    0.00    0.00   0.0    0.00   normal  15    Normal  \n",
              "1    0.00    1.00    1.00   0.0    0.00  neptune  19       DoS  \n",
              "2    0.04    0.03    0.01   0.0    0.01   normal  21    Normal  \n",
              "3    0.00    0.00    0.00   0.0    0.00   normal  21    Normal  \n",
              "4    0.00    0.00    0.00   1.0    1.00  neptune  21       DoS  \n",
              "\n",
              "[5 rows x 44 columns]"
            ]
          },
          "execution_count": 6,
          "metadata": {},
          "output_type": "execute_result"
        }
      ],
      "source": [
        "data.head()"
      ]
    },
    {
      "cell_type": "code",
      "execution_count": null,
      "metadata": {
        "colab": {
          "base_uri": "https://localhost:8080/"
        },
        "id": "4zN677IyQ-wy",
        "outputId": "0888881a-17aa-4363-b194-fa375900e7d8"
      },
      "outputs": [
        {
          "data": {
            "text/plain": [
              "(125972, 44)"
            ]
          },
          "execution_count": 7,
          "metadata": {},
          "output_type": "execute_result"
        }
      ],
      "source": [
        "data.shape"
      ]
    },
    {
      "cell_type": "code",
      "execution_count": null,
      "metadata": {
        "colab": {
          "base_uri": "https://localhost:8080/"
        },
        "id": "pswP9NPoaDVW",
        "outputId": "40737e25-9778-4d2f-f512-62ad8bb0bebc"
      },
      "outputs": [
        {
          "data": {
            "text/plain": [
              "array(['Normal', 'DoS', 'R2L', 'Probe', 'U2R'], dtype=object)"
            ]
          },
          "execution_count": 8,
          "metadata": {},
          "output_type": "execute_result"
        }
      ],
      "source": [
        "data['category'].unique()"
      ]
    },
    {
      "cell_type": "code",
      "execution_count": null,
      "metadata": {
        "id": "183pAfoPjpCH"
      },
      "outputs": [],
      "source": [
        "# Data cleaning\n",
        "data = data.dropna()"
      ]
    },
    {
      "cell_type": "code",
      "execution_count": null,
      "metadata": {
        "id": "2g-IhVisjpCH"
      },
      "outputs": [],
      "source": [
        "# Feature engineering\n",
        "\n",
        "encoder = LabelEncoder()\n",
        "data['category'] = encoder.fit_transform(data['category'])\n",
        "data.drop(columns=['tcp', 'ftp_data', 'SF', 'normal'], inplace=True)\n"
      ]
    },
    {
      "cell_type": "code",
      "execution_count": null,
      "metadata": {
        "colab": {
          "base_uri": "https://localhost:8080/",
          "height": 236
        },
        "id": "x9Xvbc_R6eqq",
        "outputId": "11369d95-62ca-4187-b16a-bda9b5d78faa"
      },
      "outputs": [
        {
          "data": {
            "text/html": [
              "\n",
              "  <div id=\"df-f139231d-4f8c-47ee-b6c8-ff044d505688\">\n",
              "    <div class=\"colab-df-container\">\n",
              "      <div>\n",
              "<style scoped>\n",
              "    .dataframe tbody tr th:only-of-type {\n",
              "        vertical-align: middle;\n",
              "    }\n",
              "\n",
              "    .dataframe tbody tr th {\n",
              "        vertical-align: top;\n",
              "    }\n",
              "\n",
              "    .dataframe thead th {\n",
              "        text-align: right;\n",
              "    }\n",
              "</style>\n",
              "<table border=\"1\" class=\"dataframe\">\n",
              "  <thead>\n",
              "    <tr style=\"text-align: right;\">\n",
              "      <th></th>\n",
              "      <th>0</th>\n",
              "      <th>491</th>\n",
              "      <th>0.1</th>\n",
              "      <th>0.2</th>\n",
              "      <th>0.3</th>\n",
              "      <th>0.4</th>\n",
              "      <th>0.5</th>\n",
              "      <th>0.6</th>\n",
              "      <th>0.7</th>\n",
              "      <th>0.8</th>\n",
              "      <th>...</th>\n",
              "      <th>0.17</th>\n",
              "      <th>0.03</th>\n",
              "      <th>0.17.1</th>\n",
              "      <th>0.00.6</th>\n",
              "      <th>0.00.7</th>\n",
              "      <th>0.00.8</th>\n",
              "      <th>0.05</th>\n",
              "      <th>0.00.9</th>\n",
              "      <th>20</th>\n",
              "      <th>category</th>\n",
              "    </tr>\n",
              "  </thead>\n",
              "  <tbody>\n",
              "    <tr>\n",
              "      <th>0</th>\n",
              "      <td>0</td>\n",
              "      <td>146</td>\n",
              "      <td>0</td>\n",
              "      <td>0</td>\n",
              "      <td>0</td>\n",
              "      <td>0</td>\n",
              "      <td>0</td>\n",
              "      <td>0</td>\n",
              "      <td>0</td>\n",
              "      <td>0</td>\n",
              "      <td>...</td>\n",
              "      <td>0.00</td>\n",
              "      <td>0.60</td>\n",
              "      <td>0.88</td>\n",
              "      <td>0.00</td>\n",
              "      <td>0.00</td>\n",
              "      <td>0.00</td>\n",
              "      <td>0.0</td>\n",
              "      <td>0.00</td>\n",
              "      <td>15</td>\n",
              "      <td>1</td>\n",
              "    </tr>\n",
              "    <tr>\n",
              "      <th>1</th>\n",
              "      <td>0</td>\n",
              "      <td>0</td>\n",
              "      <td>0</td>\n",
              "      <td>0</td>\n",
              "      <td>0</td>\n",
              "      <td>0</td>\n",
              "      <td>0</td>\n",
              "      <td>0</td>\n",
              "      <td>0</td>\n",
              "      <td>0</td>\n",
              "      <td>...</td>\n",
              "      <td>0.10</td>\n",
              "      <td>0.05</td>\n",
              "      <td>0.00</td>\n",
              "      <td>0.00</td>\n",
              "      <td>1.00</td>\n",
              "      <td>1.00</td>\n",
              "      <td>0.0</td>\n",
              "      <td>0.00</td>\n",
              "      <td>19</td>\n",
              "      <td>0</td>\n",
              "    </tr>\n",
              "    <tr>\n",
              "      <th>2</th>\n",
              "      <td>0</td>\n",
              "      <td>232</td>\n",
              "      <td>8153</td>\n",
              "      <td>0</td>\n",
              "      <td>0</td>\n",
              "      <td>0</td>\n",
              "      <td>0</td>\n",
              "      <td>0</td>\n",
              "      <td>1</td>\n",
              "      <td>0</td>\n",
              "      <td>...</td>\n",
              "      <td>1.00</td>\n",
              "      <td>0.00</td>\n",
              "      <td>0.03</td>\n",
              "      <td>0.04</td>\n",
              "      <td>0.03</td>\n",
              "      <td>0.01</td>\n",
              "      <td>0.0</td>\n",
              "      <td>0.01</td>\n",
              "      <td>21</td>\n",
              "      <td>1</td>\n",
              "    </tr>\n",
              "    <tr>\n",
              "      <th>3</th>\n",
              "      <td>0</td>\n",
              "      <td>199</td>\n",
              "      <td>420</td>\n",
              "      <td>0</td>\n",
              "      <td>0</td>\n",
              "      <td>0</td>\n",
              "      <td>0</td>\n",
              "      <td>0</td>\n",
              "      <td>1</td>\n",
              "      <td>0</td>\n",
              "      <td>...</td>\n",
              "      <td>1.00</td>\n",
              "      <td>0.00</td>\n",
              "      <td>0.00</td>\n",
              "      <td>0.00</td>\n",
              "      <td>0.00</td>\n",
              "      <td>0.00</td>\n",
              "      <td>0.0</td>\n",
              "      <td>0.00</td>\n",
              "      <td>21</td>\n",
              "      <td>1</td>\n",
              "    </tr>\n",
              "    <tr>\n",
              "      <th>4</th>\n",
              "      <td>0</td>\n",
              "      <td>0</td>\n",
              "      <td>0</td>\n",
              "      <td>0</td>\n",
              "      <td>0</td>\n",
              "      <td>0</td>\n",
              "      <td>0</td>\n",
              "      <td>0</td>\n",
              "      <td>0</td>\n",
              "      <td>0</td>\n",
              "      <td>...</td>\n",
              "      <td>0.07</td>\n",
              "      <td>0.07</td>\n",
              "      <td>0.00</td>\n",
              "      <td>0.00</td>\n",
              "      <td>0.00</td>\n",
              "      <td>0.00</td>\n",
              "      <td>1.0</td>\n",
              "      <td>1.00</td>\n",
              "      <td>21</td>\n",
              "      <td>0</td>\n",
              "    </tr>\n",
              "  </tbody>\n",
              "</table>\n",
              "<p>5 rows × 40 columns</p>\n",
              "</div>\n",
              "      <button class=\"colab-df-convert\" onclick=\"convertToInteractive('df-f139231d-4f8c-47ee-b6c8-ff044d505688')\"\n",
              "              title=\"Convert this dataframe to an interactive table.\"\n",
              "              style=\"display:none;\">\n",
              "        \n",
              "  <svg xmlns=\"http://www.w3.org/2000/svg\" height=\"24px\"viewBox=\"0 0 24 24\"\n",
              "       width=\"24px\">\n",
              "    <path d=\"M0 0h24v24H0V0z\" fill=\"none\"/>\n",
              "    <path d=\"M18.56 5.44l.94 2.06.94-2.06 2.06-.94-2.06-.94-.94-2.06-.94 2.06-2.06.94zm-11 1L8.5 8.5l.94-2.06 2.06-.94-2.06-.94L8.5 2.5l-.94 2.06-2.06.94zm10 10l.94 2.06.94-2.06 2.06-.94-2.06-.94-.94-2.06-.94 2.06-2.06.94z\"/><path d=\"M17.41 7.96l-1.37-1.37c-.4-.4-.92-.59-1.43-.59-.52 0-1.04.2-1.43.59L10.3 9.45l-7.72 7.72c-.78.78-.78 2.05 0 2.83L4 21.41c.39.39.9.59 1.41.59.51 0 1.02-.2 1.41-.59l7.78-7.78 2.81-2.81c.8-.78.8-2.07 0-2.86zM5.41 20L4 18.59l7.72-7.72 1.47 1.35L5.41 20z\"/>\n",
              "  </svg>\n",
              "      </button>\n",
              "      \n",
              "  <style>\n",
              "    .colab-df-container {\n",
              "      display:flex;\n",
              "      flex-wrap:wrap;\n",
              "      gap: 12px;\n",
              "    }\n",
              "\n",
              "    .colab-df-convert {\n",
              "      background-color: #E8F0FE;\n",
              "      border: none;\n",
              "      border-radius: 50%;\n",
              "      cursor: pointer;\n",
              "      display: none;\n",
              "      fill: #1967D2;\n",
              "      height: 32px;\n",
              "      padding: 0 0 0 0;\n",
              "      width: 32px;\n",
              "    }\n",
              "\n",
              "    .colab-df-convert:hover {\n",
              "      background-color: #E2EBFA;\n",
              "      box-shadow: 0px 1px 2px rgba(60, 64, 67, 0.3), 0px 1px 3px 1px rgba(60, 64, 67, 0.15);\n",
              "      fill: #174EA6;\n",
              "    }\n",
              "\n",
              "    [theme=dark] .colab-df-convert {\n",
              "      background-color: #3B4455;\n",
              "      fill: #D2E3FC;\n",
              "    }\n",
              "\n",
              "    [theme=dark] .colab-df-convert:hover {\n",
              "      background-color: #434B5C;\n",
              "      box-shadow: 0px 1px 3px 1px rgba(0, 0, 0, 0.15);\n",
              "      filter: drop-shadow(0px 1px 2px rgba(0, 0, 0, 0.3));\n",
              "      fill: #FFFFFF;\n",
              "    }\n",
              "  </style>\n",
              "\n",
              "      <script>\n",
              "        const buttonEl =\n",
              "          document.querySelector('#df-f139231d-4f8c-47ee-b6c8-ff044d505688 button.colab-df-convert');\n",
              "        buttonEl.style.display =\n",
              "          google.colab.kernel.accessAllowed ? 'block' : 'none';\n",
              "\n",
              "        async function convertToInteractive(key) {\n",
              "          const element = document.querySelector('#df-f139231d-4f8c-47ee-b6c8-ff044d505688');\n",
              "          const dataTable =\n",
              "            await google.colab.kernel.invokeFunction('convertToInteractive',\n",
              "                                                     [key], {});\n",
              "          if (!dataTable) return;\n",
              "\n",
              "          const docLinkHtml = 'Like what you see? Visit the ' +\n",
              "            '<a target=\"_blank\" href=https://colab.research.google.com/notebooks/data_table.ipynb>data table notebook</a>'\n",
              "            + ' to learn more about interactive tables.';\n",
              "          element.innerHTML = '';\n",
              "          dataTable['output_type'] = 'display_data';\n",
              "          await google.colab.output.renderOutput(dataTable, element);\n",
              "          const docLink = document.createElement('div');\n",
              "          docLink.innerHTML = docLinkHtml;\n",
              "          element.appendChild(docLink);\n",
              "        }\n",
              "      </script>\n",
              "    </div>\n",
              "  </div>\n",
              "  "
            ],
            "text/plain": [
              "   0  491   0.1  0.2  0.3  0.4  0.5  0.6  0.7  0.8  ...  0.17  0.03  0.17.1  \\\n",
              "0  0  146     0    0    0    0    0    0    0    0  ...  0.00  0.60    0.88   \n",
              "1  0    0     0    0    0    0    0    0    0    0  ...  0.10  0.05    0.00   \n",
              "2  0  232  8153    0    0    0    0    0    1    0  ...  1.00  0.00    0.03   \n",
              "3  0  199   420    0    0    0    0    0    1    0  ...  1.00  0.00    0.00   \n",
              "4  0    0     0    0    0    0    0    0    0    0  ...  0.07  0.07    0.00   \n",
              "\n",
              "   0.00.6  0.00.7  0.00.8  0.05  0.00.9  20  category  \n",
              "0    0.00    0.00    0.00   0.0    0.00  15         1  \n",
              "1    0.00    1.00    1.00   0.0    0.00  19         0  \n",
              "2    0.04    0.03    0.01   0.0    0.01  21         1  \n",
              "3    0.00    0.00    0.00   0.0    0.00  21         1  \n",
              "4    0.00    0.00    0.00   1.0    1.00  21         0  \n",
              "\n",
              "[5 rows x 40 columns]"
            ]
          },
          "execution_count": 11,
          "metadata": {},
          "output_type": "execute_result"
        }
      ],
      "source": [
        "data.head()"
      ]
    },
    {
      "cell_type": "code",
      "execution_count": null,
      "metadata": {
        "id": "inkV9lclrj0K"
      },
      "outputs": [],
      "source": [
        "X = data.iloc[:, :-2].values\n",
        "y = data.iloc[:, -1].values"
      ]
    },
    {
      "cell_type": "code",
      "execution_count": null,
      "metadata": {
        "colab": {
          "base_uri": "https://localhost:8080/"
        },
        "id": "AtB2haOGXtJ8",
        "outputId": "ab412f38-3b59-48ad-8263-eecbf556e9b1"
      },
      "outputs": [
        {
          "data": {
            "text/plain": [
              "array([1, 0, 3, 2, 4])"
            ]
          },
          "execution_count": 13,
          "metadata": {},
          "output_type": "execute_result"
        }
      ],
      "source": [
        "data['category'].unique()"
      ]
    },
    {
      "cell_type": "code",
      "execution_count": null,
      "metadata": {
        "colab": {
          "base_uri": "https://localhost:8080/",
          "height": 53
        },
        "id": "TCnnzEA2jywU",
        "outputId": "e6d57f13-82f9-4bf8-e9e8-33436cef66bd"
      },
      "outputs": [
        {
          "data": {
            "application/vnd.google.colaboratory.intrinsic+json": {
              "type": "string"
            },
            "text/plain": [
              "\"\\n# Convert the labels to one-hot encoding\\nfrom keras.utils import to_categorical\\ndata['category'] = to_categorical(data['category'], num_classes=5)\\n#y_test = to_categorical(y_test, num_classes=5)\\n# tried to convert catgory into numeric form with to categorial.\\n\""
            ]
          },
          "execution_count": 14,
          "metadata": {},
          "output_type": "execute_result"
        }
      ],
      "source": [
        "# Feature engineering\n",
        "'''\n",
        "# Convert the labels to one-hot encoding\n",
        "from keras.utils import to_categorical\n",
        "data['category'] = to_categorical(data['category'], num_classes=5)\n",
        "#y_test = to_categorical(y_test, num_classes=5)\n",
        "# tried to convert catgory into numeric form with to categorial.\n",
        "'''"
      ]
    },
    {
      "cell_type": "code",
      "execution_count": null,
      "metadata": {
        "id": "tlHKChtHjpCI"
      },
      "outputs": [],
      "source": [
        "# Feature engineering\n",
        "X = data.drop(['category'], axis=1)\n",
        "y = data['category']\n",
        "data1 = X"
      ]
    },
    {
      "cell_type": "code",
      "execution_count": null,
      "metadata": {
        "colab": {
          "base_uri": "https://localhost:8080/"
        },
        "id": "1EnI6bLTgpKO",
        "outputId": "a230d3fc-4730-463e-9cd7-b42db27c5417"
      },
      "outputs": [
        {
          "data": {
            "text/plain": [
              "(125972,)"
            ]
          },
          "execution_count": 16,
          "metadata": {},
          "output_type": "execute_result"
        }
      ],
      "source": [
        "y.shape"
      ]
    },
    {
      "cell_type": "code",
      "execution_count": null,
      "metadata": {
        "id": "HtNHly5UjpCI"
      },
      "outputs": [],
      "source": [
        "# Feature scaling\n",
        "scaler = StandardScaler()\n",
        "X = scaler.fit_transform(X)"
      ]
    },
    {
      "cell_type": "code",
      "execution_count": null,
      "metadata": {
        "colab": {
          "base_uri": "https://localhost:8080/"
        },
        "id": "9gq4S2hyjpCI",
        "outputId": "9beec946-5450-4822-c752-4edf5b900807"
      },
      "outputs": [
        {
          "name": "stderr",
          "output_type": "stream",
          "text": [
            "/usr/local/lib/python3.10/dist-packages/sklearn/feature_selection/_univariate_selection.py:112: UserWarning: Features [16] are constant.\n",
            "  warnings.warn(\"Features %s are constant.\" % constant_features_idx, UserWarning)\n",
            "/usr/local/lib/python3.10/dist-packages/sklearn/feature_selection/_univariate_selection.py:113: RuntimeWarning: invalid value encountered in true_divide\n",
            "  f = msb / msw\n"
          ]
        }
      ],
      "source": [
        "# Feature selection\n",
        "selector = SelectKBest(score_func=f_classif, k=20)\n",
        "X = selector.fit_transform(X, y)"
      ]
    },
    {
      "cell_type": "code",
      "execution_count": null,
      "metadata": {
        "colab": {
          "base_uri": "https://localhost:8080/"
        },
        "id": "87STjRrHjpCJ",
        "outputId": "17a9c416-880d-430e-a0f3-9efad5515a71"
      },
      "outputs": [
        {
          "name": "stdout",
          "output_type": "stream",
          "text": [
            "['0.5', '0.7', '2', '0.00', '0.00.1', '0.00.2', '0.00.3', '1.00', '0.00.4', '0.00.5', '150', '25', '0.17', '0.03', '0.17.1', '0.00.6', '0.00.7', '0.00.8', '0.00.9', '20']\n"
          ]
        }
      ],
      "source": [
        "# get the list of selected features\n",
        "selected_features_mask = selector.get_support()\n",
        "selected_features = list(data1.columns[selected_features_mask])\n",
        "print(selected_features)"
      ]
    },
    {
      "cell_type": "code",
      "execution_count": null,
      "metadata": {
        "id": "WvwmfDCnjpCJ"
      },
      "outputs": [],
      "source": [
        "# Split data into train and test sets\n",
        "X_train, X_test, y_train, y_test = train_test_split(X, y, test_size=0.2, random_state=42)\n"
      ]
    },
    {
      "cell_type": "code",
      "execution_count": null,
      "metadata": {
        "id": "1CSeMRBejOsA"
      },
      "outputs": [],
      "source": []
    },
    {
      "cell_type": "code",
      "execution_count": null,
      "metadata": {
        "colab": {
          "base_uri": "https://localhost:8080/"
        },
        "id": "fuhDTxFKiimr",
        "outputId": "de3989cd-fc96-4b49-9866-a757c8d1f95d"
      },
      "outputs": [
        {
          "name": "stdout",
          "output_type": "stream",
          "text": [
            "Class distribution after oversampling:\n",
            "0    53956\n",
            "1    53956\n",
            "2    53956\n",
            "3    53956\n",
            "4    53956\n",
            "Name: category, dtype: int64\n"
          ]
        }
      ],
      "source": [
        "from imblearn.over_sampling import SMOTE\n",
        "\n",
        "# Perform SMOTE oversampling\n",
        "smote = SMOTE(random_state=42)\n",
        "X_train_resampled, y_train_resampled = smote.fit_resample(X_train, y_train)\n",
        "\n",
        "# Check the class distribution after oversampling\n",
        "print(\"Class distribution after oversampling:\")\n",
        "print(y_train_resampled.value_counts())\n"
      ]
    },
    {
      "cell_type": "code",
      "execution_count": null,
      "metadata": {
        "colab": {
          "base_uri": "https://localhost:8080/"
        },
        "id": "FyVDD8G1gH3s",
        "outputId": "9ca4d466-08ad-42d8-b0e8-a53a9bcb50c9"
      },
      "outputs": [
        {
          "data": {
            "text/plain": [
              "(25195,)"
            ]
          },
          "execution_count": 22,
          "metadata": {},
          "output_type": "execute_result"
        }
      ],
      "source": [
        "y_test.shape"
      ]
    },
    {
      "cell_type": "code",
      "execution_count": null,
      "metadata": {
        "colab": {
          "base_uri": "https://localhost:8080/",
          "height": 53
        },
        "id": "PkmaeZVljpCJ",
        "outputId": "a67a6167-f56c-4a8e-e325-e1fb432d40cd"
      },
      "outputs": [
        {
          "data": {
            "application/vnd.google.colaboratory.intrinsic+json": {
              "type": "string"
            },
            "text/plain": [
              "'\\nfrom keras.utils import to_categorical\\n\\n# Convert the labels to one-hot encoding\\ny_train = to_categorical(y_train, num_classes=5)\\ny_test = to_categorical(y_test, num_classes=5)\\n'"
            ]
          },
          "execution_count": 23,
          "metadata": {},
          "output_type": "execute_result"
        }
      ],
      "source": [
        "'''\n",
        "from keras.utils import to_categorical\n",
        "\n",
        "# Convert the labels to one-hot encoding\n",
        "y_train = to_categorical(y_train, num_classes=5)\n",
        "y_test = to_categorical(y_test, num_classes=5)\n",
        "\n",
        "'''"
      ]
    },
    {
      "cell_type": "markdown",
      "metadata": {
        "id": "Yhsz16uSUm96"
      },
      "source": [
        "# New Section\n",
        "# DNN model"
      ]
    },
    {
      "cell_type": "markdown",
      "metadata": {
        "id": "4k6BriPg8k80"
      },
      "source": [
        "### DNN with balanced dataset"
      ]
    },
    {
      "cell_type": "code",
      "execution_count": null,
      "metadata": {
        "id": "nh-EPObF8pCi"
      },
      "outputs": [],
      "source": [
        "X_train = X_train_resampled\n",
        "y_train = y_train_resampled\n"
      ]
    },
    {
      "cell_type": "code",
      "execution_count": null,
      "metadata": {
        "colab": {
          "base_uri": "https://localhost:8080/"
        },
        "id": "T4QD9TmC8pkY",
        "outputId": "9177c39b-b046-4034-8c0b-98ebccbb4681"
      },
      "outputs": [
        {
          "name": "stderr",
          "output_type": "stream",
          "text": [
            "/usr/local/lib/python3.10/dist-packages/keras/optimizers/legacy/adam.py:117: UserWarning: The `lr` argument is deprecated, use `learning_rate` instead.\n",
            "  super().__init__(name, **kwargs)\n"
          ]
        }
      ],
      "source": [
        "# Build DNN model\n",
        "dnn_model = Sequential()\n",
        "dnn_model.add(Dense(units=64, activation='relu', input_dim=20))\n",
        "dnn_model.add(Dense(units=32, activation='relu'))\n",
        "dnn_model.add(Dense(units=5, activation='softmax'))\n",
        "dnn_model.compile(loss='categorical_crossentropy', optimizer=Adam(lr=0.001), metrics=['accuracy'])\n",
        "\n",
        "# this is because of the binary or multicalss classification\n",
        "#dnn_model.compile(loss='sparse_categorical_crossentropy', optimizer='adam', metrics=['accuracy'])\n",
        "\n",
        "\n"
      ]
    },
    {
      "cell_type": "code",
      "execution_count": null,
      "metadata": {
        "colab": {
          "base_uri": "https://localhost:8080/"
        },
        "id": "A4zs58q48pka",
        "outputId": "a425a9ba-69f3-4f3b-93ab-97bf3456b632"
      },
      "outputs": [
        {
          "name": "stdout",
          "output_type": "stream",
          "text": [
            "Input shape of DNN model: (None, 20)\n"
          ]
        }
      ],
      "source": [
        "# Print the input shape of the DNN model\n",
        "print(\"Input shape of DNN model:\", dnn_model.layers[0].input_shape)"
      ]
    },
    {
      "cell_type": "code",
      "execution_count": null,
      "metadata": {
        "colab": {
          "base_uri": "https://localhost:8080/"
        },
        "id": "nUr1SV6C8pka",
        "outputId": "7f76bdad-379c-4eb3-8154-e92860803293"
      },
      "outputs": [
        {
          "name": "stdout",
          "output_type": "stream",
          "text": [
            "Epoch 1/15\n",
            "8431/8431 [==============================] - 25s 3ms/step - loss: 0.0645 - accuracy: 0.9798 - val_loss: 0.0431 - val_accuracy: 0.9851\n",
            "Epoch 2/15\n",
            "8431/8431 [==============================] - 23s 3ms/step - loss: 0.0260 - accuracy: 0.9917 - val_loss: 0.0271 - val_accuracy: 0.9914\n",
            "Epoch 3/15\n",
            "8431/8431 [==============================] - 17s 2ms/step - loss: 0.0201 - accuracy: 0.9937 - val_loss: 0.0207 - val_accuracy: 0.9942\n",
            "Epoch 4/15\n",
            "8431/8431 [==============================] - 17s 2ms/step - loss: 0.0181 - accuracy: 0.9945 - val_loss: 0.0192 - val_accuracy: 0.9945\n",
            "Epoch 5/15\n",
            "8431/8431 [==============================] - 17s 2ms/step - loss: 0.0165 - accuracy: 0.9949 - val_loss: 0.0173 - val_accuracy: 0.9950\n",
            "Epoch 6/15\n",
            "8431/8431 [==============================] - 17s 2ms/step - loss: 0.0150 - accuracy: 0.9954 - val_loss: 0.0198 - val_accuracy: 0.9942\n",
            "Epoch 7/15\n",
            "8431/8431 [==============================] - 19s 2ms/step - loss: 0.0142 - accuracy: 0.9957 - val_loss: 0.0199 - val_accuracy: 0.9952\n",
            "Epoch 8/15\n",
            "8431/8431 [==============================] - 17s 2ms/step - loss: 0.0136 - accuracy: 0.9959 - val_loss: 0.0190 - val_accuracy: 0.9953\n",
            "Epoch 9/15\n",
            "8431/8431 [==============================] - 17s 2ms/step - loss: 0.0133 - accuracy: 0.9960 - val_loss: 0.0169 - val_accuracy: 0.9958\n",
            "Epoch 10/15\n",
            "8431/8431 [==============================] - 16s 2ms/step - loss: 0.0126 - accuracy: 0.9962 - val_loss: 0.0192 - val_accuracy: 0.9952\n",
            "Epoch 11/15\n",
            "8431/8431 [==============================] - 17s 2ms/step - loss: 0.0124 - accuracy: 0.9962 - val_loss: 0.0197 - val_accuracy: 0.9947\n",
            "Epoch 12/15\n",
            "8431/8431 [==============================] - 17s 2ms/step - loss: 0.0117 - accuracy: 0.9965 - val_loss: 0.0178 - val_accuracy: 0.9956\n",
            "Epoch 13/15\n",
            "8431/8431 [==============================] - 17s 2ms/step - loss: 0.0114 - accuracy: 0.9966 - val_loss: 0.0162 - val_accuracy: 0.9956\n",
            "Epoch 14/15\n",
            "8431/8431 [==============================] - 16s 2ms/step - loss: 0.0113 - accuracy: 0.9965 - val_loss: 0.0150 - val_accuracy: 0.9963\n",
            "Epoch 15/15\n",
            "8431/8431 [==============================] - 17s 2ms/step - loss: 0.0109 - accuracy: 0.9967 - val_loss: 0.0162 - val_accuracy: 0.9962\n"
          ]
        },
        {
          "data": {
            "text/plain": [
              "<keras.callbacks.History at 0x7f35a25dfa00>"
            ]
          },
          "execution_count": 29,
          "metadata": {},
          "output_type": "execute_result"
        }
      ],
      "source": [
        "# Train DNN model\n",
        "early_stop = EarlyStopping(monitor='val_loss', patience=5, verbose=1)\n",
        "dnn_model.fit(X_train, pd.get_dummies(y_train), validation_data=(X_test, pd.get_dummies(y_test)), epochs=15, batch_size=32, callbacks=[early_stop])\n"
      ]
    },
    {
      "cell_type": "code",
      "execution_count": null,
      "metadata": {
        "colab": {
          "base_uri": "https://localhost:8080/"
        },
        "id": "OydKtP6C8pkb",
        "outputId": "161edf4d-ade4-42f9-a619-0e304a8e88d3"
      },
      "outputs": [
        {
          "name": "stdout",
          "output_type": "stream",
          "text": [
            "788/788 [==============================] - 1s 1ms/step\n",
            "              precision    recall  f1-score   support\n",
            "\n",
            "           0       1.00      1.00      1.00      9224\n",
            "           1       1.00      1.00      1.00     13386\n",
            "           2       0.98      1.00      0.99      2373\n",
            "           3       0.90      0.97      0.94       201\n",
            "           4       0.41      0.64      0.50        11\n",
            "\n",
            "    accuracy                           1.00     25195\n",
            "   macro avg       0.86      0.92      0.88     25195\n",
            "weighted avg       1.00      1.00      1.00     25195\n",
            "\n"
          ]
        }
      ],
      "source": [
        "from sklearn.metrics import classification_report\n",
        "\n",
        "# Assuming you have trained your DNN model and obtained predictions\n",
        "dnn_probs = dnn_model.predict(X_test)\n",
        "dnn_probs_classes = np.argmax(dnn_probs, axis=1)  # Convert probabilities to class labels\n",
        "\n",
        "# Assuming you have the true labels for the test data\n",
        "y_true = y_test  # Replace y_test with your true labels\n",
        "\n",
        "# Generate the classification report\n",
        "report = classification_report(y_true, dnn_probs_classes)\n",
        "\n",
        "# Print the classification report\n",
        "print(report)\n"
      ]
    },
    {
      "cell_type": "markdown",
      "metadata": {
        "id": "5A-72PfU7bX1"
      },
      "source": [
        "### DNN test without one hot encoder"
      ]
    },
    {
      "cell_type": "code",
      "execution_count": null,
      "metadata": {
        "id": "DOdGF7YFcNxF"
      },
      "outputs": [],
      "source": [
        "# Build DNN model\n",
        "dnn_model = Sequential()\n",
        "dnn_model.add(Dense(units=64, activation='relu', input_dim=20))\n",
        "dnn_model.add(Dense(units=32, activation='relu'))\n",
        "dnn_model.add(Dense(units=5, activation='softmax'))\n",
        "dnn_model.compile(loss='categorical_crossentropy', optimizer=Adam(lr=0.001), metrics=['accuracy'])\n",
        "\n",
        "# this is because of the binary or multicalss classification\n",
        "#dnn_model.compile(loss='sparse_categorical_crossentropy', optimizer='adam', metrics=['accuracy'])\n",
        "\n",
        "\n"
      ]
    },
    {
      "cell_type": "code",
      "execution_count": null,
      "metadata": {
        "colab": {
          "base_uri": "https://localhost:8080/"
        },
        "id": "IH0EcZp9TxaN",
        "outputId": "ce699cc2-3199-4e89-8e5a-aaea1912c8f6"
      },
      "outputs": [
        {
          "name": "stdout",
          "output_type": "stream",
          "text": [
            "Input shape of DNN model: (None, 20)\n"
          ]
        }
      ],
      "source": [
        "# Print the input shape of the DNN model\n",
        "print(\"Input shape of DNN model:\", dnn_model.layers[0].input_shape)"
      ]
    },
    {
      "cell_type": "code",
      "execution_count": null,
      "metadata": {
        "colab": {
          "base_uri": "https://localhost:8080/"
        },
        "id": "o5t05pra7qFl",
        "outputId": "a58a040c-72d2-4ab5-a1d3-0aebe0687b72"
      },
      "outputs": [
        {
          "name": "stdout",
          "output_type": "stream",
          "text": [
            "Epoch 1/15\n",
            "3150/3150 [==============================] - 5s 2ms/step - loss: 0.0178 - accuracy: 0.9937 - val_loss: 0.0185 - val_accuracy: 0.9927\n",
            "Epoch 2/15\n",
            "3150/3150 [==============================] - 6s 2ms/step - loss: 0.0156 - accuracy: 0.9944 - val_loss: 0.0149 - val_accuracy: 0.9945\n",
            "Epoch 3/15\n",
            "3150/3150 [==============================] - 5s 1ms/step - loss: 0.0145 - accuracy: 0.9949 - val_loss: 0.0131 - val_accuracy: 0.9955\n",
            "Epoch 4/15\n",
            "3150/3150 [==============================] - 5s 2ms/step - loss: 0.0137 - accuracy: 0.9950 - val_loss: 0.0141 - val_accuracy: 0.9951\n",
            "Epoch 5/15\n",
            "3150/3150 [==============================] - 5s 2ms/step - loss: 0.0123 - accuracy: 0.9957 - val_loss: 0.0131 - val_accuracy: 0.9952\n",
            "Epoch 6/15\n",
            "3150/3150 [==============================] - 5s 1ms/step - loss: 0.0121 - accuracy: 0.9958 - val_loss: 0.0121 - val_accuracy: 0.9955\n",
            "Epoch 7/15\n",
            "3150/3150 [==============================] - 9s 3ms/step - loss: 0.0112 - accuracy: 0.9960 - val_loss: 0.0124 - val_accuracy: 0.9959\n",
            "Epoch 8/15\n",
            "3150/3150 [==============================] - 6s 2ms/step - loss: 0.0109 - accuracy: 0.9962 - val_loss: 0.0131 - val_accuracy: 0.9956\n",
            "Epoch 9/15\n",
            "3150/3150 [==============================] - 5s 2ms/step - loss: 0.0101 - accuracy: 0.9965 - val_loss: 0.0108 - val_accuracy: 0.9958\n",
            "Epoch 10/15\n",
            "3150/3150 [==============================] - 5s 1ms/step - loss: 0.0097 - accuracy: 0.9965 - val_loss: 0.0117 - val_accuracy: 0.9961\n",
            "Epoch 11/15\n",
            "3150/3150 [==============================] - 5s 2ms/step - loss: 0.0102 - accuracy: 0.9962 - val_loss: 0.0099 - val_accuracy: 0.9965\n",
            "Epoch 12/15\n",
            "3150/3150 [==============================] - 5s 2ms/step - loss: 0.0092 - accuracy: 0.9968 - val_loss: 0.0122 - val_accuracy: 0.9955\n",
            "Epoch 13/15\n",
            "3150/3150 [==============================] - 4s 1ms/step - loss: 0.0091 - accuracy: 0.9967 - val_loss: 0.0103 - val_accuracy: 0.9967\n",
            "Epoch 14/15\n",
            "3150/3150 [==============================] - 7s 2ms/step - loss: 0.0092 - accuracy: 0.9968 - val_loss: 0.0110 - val_accuracy: 0.9962\n",
            "Epoch 15/15\n",
            "3150/3150 [==============================] - 5s 1ms/step - loss: 0.0085 - accuracy: 0.9970 - val_loss: 0.0121 - val_accuracy: 0.9959\n"
          ]
        },
        {
          "data": {
            "text/plain": [
              "<keras.callbacks.History at 0x7f77921587f0>"
            ]
          },
          "execution_count": 30,
          "metadata": {},
          "output_type": "execute_result"
        }
      ],
      "source": [
        "# Train DNN model\n",
        "early_stop = EarlyStopping(monitor='val_loss', patience=5, verbose=1)\n",
        "dnn_model.fit(X_train, pd.get_dummies(y_train), validation_data=(X_test, pd.get_dummies(y_test)), epochs=15, batch_size=32, callbacks=[early_stop])\n"
      ]
    },
    {
      "cell_type": "code",
      "execution_count": null,
      "metadata": {
        "colab": {
          "base_uri": "https://localhost:8080/"
        },
        "id": "nOPBGZn_cFjo",
        "outputId": "aecbe6a5-71d1-4b69-8d2a-803096c5bb0a"
      },
      "outputs": [
        {
          "name": "stdout",
          "output_type": "stream",
          "text": [
            "788/788 [==============================] - 1s 855us/step\n",
            "              precision    recall  f1-score   support\n",
            "\n",
            "           0       1.00      1.00      1.00      9224\n",
            "           1       1.00      1.00      1.00     13386\n",
            "           2       0.99      0.99      0.99      2373\n",
            "           3       0.93      0.93      0.93       201\n",
            "           4       1.00      0.45      0.62        11\n",
            "\n",
            "    accuracy                           1.00     25195\n",
            "   macro avg       0.98      0.87      0.91     25195\n",
            "weighted avg       1.00      1.00      1.00     25195\n",
            "\n"
          ]
        }
      ],
      "source": [
        "from sklearn.metrics import classification_report\n",
        "\n",
        "# Assuming you have trained your DNN model and obtained predictions\n",
        "dnn_probs = dnn_model.predict(X_test)\n",
        "dnn_probs_classes = np.argmax(dnn_probs, axis=1)  # Convert probabilities to class labels\n",
        "\n",
        "# Assuming you have the true labels for the test data\n",
        "y_true = y_test  # Replace y_test with your true labels\n",
        "\n",
        "# Generate the classification report\n",
        "report = classification_report(y_true, dnn_probs_classes)\n",
        "\n",
        "# Print the classification report\n",
        "print(report)\n"
      ]
    },
    {
      "cell_type": "code",
      "execution_count": null,
      "metadata": {
        "id": "eXuHRHJc8Iun"
      },
      "outputs": [],
      "source": [
        "import pickle\n",
        "\n",
        "# Assume that 'model' is your trained CNN model\n",
        "with open('/content/drive/MyDrive/ML on Cyber Security Dataset/Working March 2023/Models/NSL KDD 5 clasess/dnn_model.pkl', 'wb') as f:\n",
        "    pickle.dump(dnn_model, f)"
      ]
    },
    {
      "cell_type": "markdown",
      "metadata": {
        "id": "sKWfbreJ7iz-"
      },
      "source": [
        "## DNN with one hot encoder"
      ]
    },
    {
      "cell_type": "markdown",
      "metadata": {
        "id": "LR3eaDpu9ToH"
      },
      "source": [
        "### Doesn't work without onehot encoder"
      ]
    },
    {
      "cell_type": "code",
      "execution_count": null,
      "metadata": {
        "id": "Un59PW5CjpCK"
      },
      "outputs": [],
      "source": [
        "# Define the DNN model\n",
        "dnn_model = Sequential()\n",
        "dnn_model.add(Dense(128, input_dim = X_train.shape[1], activation='relu'))\n",
        "dnn_model.add(Dense(64, input_shape = (20,), activation='relu'))\n",
        "dnn_model.add(Dense(32, activation='relu'))\n",
        "dnn_model.add(Dense(20, activation='softmax'))\n",
        "\n",
        "# Compile the model\n",
        "dnn_model.compile(loss='categorical_crossentropy', optimizer='adam', metrics=['accuracy'])\n"
      ]
    },
    {
      "cell_type": "code",
      "execution_count": null,
      "metadata": {
        "colab": {
          "base_uri": "https://localhost:8080/"
        },
        "id": "0xOeUOTQjpCK",
        "outputId": "fcc5fe83-d980-4c4d-e251-c924c974beee"
      },
      "outputs": [
        {
          "name": "stdout",
          "output_type": "stream",
          "text": [
            "Input shape of DNN model: (None, 20)\n"
          ]
        }
      ],
      "source": [
        "# Print the input shape of the DNN model\n",
        "print(\"Input shape of DNN model:\", dnn_model.layers[0].input_shape)"
      ]
    },
    {
      "cell_type": "code",
      "execution_count": null,
      "metadata": {
        "id": "NOxGBZ4yjpCK"
      },
      "outputs": [],
      "source": [
        "# Train the model\n",
        "dnn_model.fit(X_train, y_train, batch_size=64, epochs=15, validation_data=(X_test, y_test))"
      ]
    },
    {
      "cell_type": "code",
      "execution_count": null,
      "metadata": {
        "colab": {
          "base_uri": "https://localhost:8080/"
        },
        "id": "lQzurHXueay8",
        "outputId": "2b12dc0d-391a-4bf4-df7a-7a6029780b71"
      },
      "outputs": [
        {
          "name": "stdout",
          "output_type": "stream",
          "text": [
            "788/788 [==============================] - 1s 1ms/step\n",
            "              precision    recall  f1-score   support\n",
            "\n",
            "           0       1.00      1.00      1.00      9224\n",
            "           1       1.00      1.00      1.00     13386\n",
            "           2       0.99      0.99      0.99      2373\n",
            "           3       0.91      0.95      0.93       201\n",
            "           4       1.00      0.36      0.53        11\n",
            "\n",
            "    accuracy                           1.00     25195\n",
            "   macro avg       0.98      0.86      0.89     25195\n",
            "weighted avg       1.00      1.00      1.00     25195\n",
            "\n"
          ]
        }
      ],
      "source": [
        "from sklearn.metrics import classification_report\n",
        "\n",
        "# Assuming you have trained your DNN model and obtained predictions\n",
        "y_pred = dnn_model.predict(X_test)\n",
        "y_pred_classes = np.argmax(y_pred, axis=1)  # Convert probabilities to class labels\n",
        "\n",
        "# Assuming you have the true labels for the test data\n",
        "y_true = np.argmax(y_test, axis=1)  # Convert one-hot encoded labels to class labels\n",
        "\n",
        "# Generate the classification report\n",
        "report = classification_report(y_true, y_pred_classes)\n",
        "\n",
        "# Print the classification report\n",
        "print(report)\n"
      ]
    },
    {
      "cell_type": "code",
      "execution_count": null,
      "metadata": {
        "id": "kaeU1c7ksNGT"
      },
      "outputs": [],
      "source": [
        "import pickle\n",
        "\n",
        "# Assume that 'model' is your trained CNN model\n",
        "with open('/content/drive/MyDrive/ML on Cyber Security Dataset/Working March 2023/Models/NSL KDD 5 clasess/dnn_model.pkl', 'wb') as f:\n",
        "    pickle.dump(dnn_model, f)"
      ]
    },
    {
      "cell_type": "markdown",
      "metadata": {
        "id": "w41DuTf4UrdA"
      },
      "source": [
        "# New Section\n",
        "# XG Boost Model"
      ]
    },
    {
      "cell_type": "code",
      "execution_count": null,
      "metadata": {
        "id": "23X0D1d_epih"
      },
      "outputs": [],
      "source": [
        "import xgboost as xgb\n",
        "from sklearn.metrics import classification_report"
      ]
    },
    {
      "cell_type": "code",
      "execution_count": null,
      "metadata": {
        "id": "qug1I4dddYpE"
      },
      "outputs": [],
      "source": [
        "# Create an instance of the XGBoost classifier\n",
        "xgb_model = xgb.XGBClassifier()\n",
        "\n"
      ]
    },
    {
      "cell_type": "code",
      "execution_count": null,
      "metadata": {
        "colab": {
          "base_uri": "https://localhost:8080/",
          "height": 248
        },
        "id": "aLnb5ZzIeAIV",
        "outputId": "4b3ec7c6-2602-4478-cd69-becc9865b1a8"
      },
      "outputs": [
        {
          "data": {
            "text/html": [
              "<style>#sk-container-id-1 {color: black;background-color: white;}#sk-container-id-1 pre{padding: 0;}#sk-container-id-1 div.sk-toggleable {background-color: white;}#sk-container-id-1 label.sk-toggleable__label {cursor: pointer;display: block;width: 100%;margin-bottom: 0;padding: 0.3em;box-sizing: border-box;text-align: center;}#sk-container-id-1 label.sk-toggleable__label-arrow:before {content: \"▸\";float: left;margin-right: 0.25em;color: #696969;}#sk-container-id-1 label.sk-toggleable__label-arrow:hover:before {color: black;}#sk-container-id-1 div.sk-estimator:hover label.sk-toggleable__label-arrow:before {color: black;}#sk-container-id-1 div.sk-toggleable__content {max-height: 0;max-width: 0;overflow: hidden;text-align: left;background-color: #f0f8ff;}#sk-container-id-1 div.sk-toggleable__content pre {margin: 0.2em;color: black;border-radius: 0.25em;background-color: #f0f8ff;}#sk-container-id-1 input.sk-toggleable__control:checked~div.sk-toggleable__content {max-height: 200px;max-width: 100%;overflow: auto;}#sk-container-id-1 input.sk-toggleable__control:checked~label.sk-toggleable__label-arrow:before {content: \"▾\";}#sk-container-id-1 div.sk-estimator input.sk-toggleable__control:checked~label.sk-toggleable__label {background-color: #d4ebff;}#sk-container-id-1 div.sk-label input.sk-toggleable__control:checked~label.sk-toggleable__label {background-color: #d4ebff;}#sk-container-id-1 input.sk-hidden--visually {border: 0;clip: rect(1px 1px 1px 1px);clip: rect(1px, 1px, 1px, 1px);height: 1px;margin: -1px;overflow: hidden;padding: 0;position: absolute;width: 1px;}#sk-container-id-1 div.sk-estimator {font-family: monospace;background-color: #f0f8ff;border: 1px dotted black;border-radius: 0.25em;box-sizing: border-box;margin-bottom: 0.5em;}#sk-container-id-1 div.sk-estimator:hover {background-color: #d4ebff;}#sk-container-id-1 div.sk-parallel-item::after {content: \"\";width: 100%;border-bottom: 1px solid gray;flex-grow: 1;}#sk-container-id-1 div.sk-label:hover label.sk-toggleable__label {background-color: #d4ebff;}#sk-container-id-1 div.sk-serial::before {content: \"\";position: absolute;border-left: 1px solid gray;box-sizing: border-box;top: 0;bottom: 0;left: 50%;z-index: 0;}#sk-container-id-1 div.sk-serial {display: flex;flex-direction: column;align-items: center;background-color: white;padding-right: 0.2em;padding-left: 0.2em;position: relative;}#sk-container-id-1 div.sk-item {position: relative;z-index: 1;}#sk-container-id-1 div.sk-parallel {display: flex;align-items: stretch;justify-content: center;background-color: white;position: relative;}#sk-container-id-1 div.sk-item::before, #sk-container-id-1 div.sk-parallel-item::before {content: \"\";position: absolute;border-left: 1px solid gray;box-sizing: border-box;top: 0;bottom: 0;left: 50%;z-index: -1;}#sk-container-id-1 div.sk-parallel-item {display: flex;flex-direction: column;z-index: 1;position: relative;background-color: white;}#sk-container-id-1 div.sk-parallel-item:first-child::after {align-self: flex-end;width: 50%;}#sk-container-id-1 div.sk-parallel-item:last-child::after {align-self: flex-start;width: 50%;}#sk-container-id-1 div.sk-parallel-item:only-child::after {width: 0;}#sk-container-id-1 div.sk-dashed-wrapped {border: 1px dashed gray;margin: 0 0.4em 0.5em 0.4em;box-sizing: border-box;padding-bottom: 0.4em;background-color: white;}#sk-container-id-1 div.sk-label label {font-family: monospace;font-weight: bold;display: inline-block;line-height: 1.2em;}#sk-container-id-1 div.sk-label-container {text-align: center;}#sk-container-id-1 div.sk-container {/* jupyter's `normalize.less` sets `[hidden] { display: none; }` but bootstrap.min.css set `[hidden] { display: none !important; }` so we also need the `!important` here to be able to override the default hidden behavior on the sphinx rendered scikit-learn.org. See: https://github.com/scikit-learn/scikit-learn/issues/21755 */display: inline-block !important;position: relative;}#sk-container-id-1 div.sk-text-repr-fallback {display: none;}</style><div id=\"sk-container-id-1\" class=\"sk-top-container\"><div class=\"sk-text-repr-fallback\"><pre>XGBClassifier(base_score=None, booster=None, callbacks=None,\n",
              "              colsample_bylevel=None, colsample_bynode=None,\n",
              "              colsample_bytree=None, early_stopping_rounds=None,\n",
              "              enable_categorical=False, eval_metric=None, feature_types=None,\n",
              "              gamma=None, gpu_id=None, grow_policy=None, importance_type=None,\n",
              "              interaction_constraints=None, learning_rate=None, max_bin=None,\n",
              "              max_cat_threshold=None, max_cat_to_onehot=None,\n",
              "              max_delta_step=None, max_depth=None, max_leaves=None,\n",
              "              min_child_weight=None, missing=nan, monotone_constraints=None,\n",
              "              n_estimators=100, n_jobs=None, num_parallel_tree=None,\n",
              "              objective=&#x27;multi:softprob&#x27;, predictor=None, ...)</pre><b>In a Jupyter environment, please rerun this cell to show the HTML representation or trust the notebook. <br />On GitHub, the HTML representation is unable to render, please try loading this page with nbviewer.org.</b></div><div class=\"sk-container\" hidden><div class=\"sk-item\"><div class=\"sk-estimator sk-toggleable\"><input class=\"sk-toggleable__control sk-hidden--visually\" id=\"sk-estimator-id-1\" type=\"checkbox\" checked><label for=\"sk-estimator-id-1\" class=\"sk-toggleable__label sk-toggleable__label-arrow\">XGBClassifier</label><div class=\"sk-toggleable__content\"><pre>XGBClassifier(base_score=None, booster=None, callbacks=None,\n",
              "              colsample_bylevel=None, colsample_bynode=None,\n",
              "              colsample_bytree=None, early_stopping_rounds=None,\n",
              "              enable_categorical=False, eval_metric=None, feature_types=None,\n",
              "              gamma=None, gpu_id=None, grow_policy=None, importance_type=None,\n",
              "              interaction_constraints=None, learning_rate=None, max_bin=None,\n",
              "              max_cat_threshold=None, max_cat_to_onehot=None,\n",
              "              max_delta_step=None, max_depth=None, max_leaves=None,\n",
              "              min_child_weight=None, missing=nan, monotone_constraints=None,\n",
              "              n_estimators=100, n_jobs=None, num_parallel_tree=None,\n",
              "              objective=&#x27;multi:softprob&#x27;, predictor=None, ...)</pre></div></div></div></div></div>"
            ],
            "text/plain": [
              "XGBClassifier(base_score=None, booster=None, callbacks=None,\n",
              "              colsample_bylevel=None, colsample_bynode=None,\n",
              "              colsample_bytree=None, early_stopping_rounds=None,\n",
              "              enable_categorical=False, eval_metric=None, feature_types=None,\n",
              "              gamma=None, gpu_id=None, grow_policy=None, importance_type=None,\n",
              "              interaction_constraints=None, learning_rate=None, max_bin=None,\n",
              "              max_cat_threshold=None, max_cat_to_onehot=None,\n",
              "              max_delta_step=None, max_depth=None, max_leaves=None,\n",
              "              min_child_weight=None, missing=nan, monotone_constraints=None,\n",
              "              n_estimators=100, n_jobs=None, num_parallel_tree=None,\n",
              "              objective='multi:softprob', predictor=None, ...)"
            ]
          },
          "execution_count": 33,
          "metadata": {},
          "output_type": "execute_result"
        }
      ],
      "source": [
        "# Train the XGBoost model\n",
        "xgb_model.fit(X_train, y_train)\n"
      ]
    },
    {
      "cell_type": "code",
      "execution_count": null,
      "metadata": {
        "id": "-ueavIRgeBeN"
      },
      "outputs": [],
      "source": [
        "# Make predictions on the test data\n",
        "xgboost_y_pred = xgb_model.predict(X_test)"
      ]
    },
    {
      "cell_type": "code",
      "execution_count": null,
      "metadata": {
        "colab": {
          "base_uri": "https://localhost:8080/"
        },
        "id": "3WNdICA6XOSA",
        "outputId": "5149a3d2-361f-46b3-a161-54929f298058"
      },
      "outputs": [
        {
          "data": {
            "text/plain": [
              "(25195, 20)"
            ]
          },
          "execution_count": 35,
          "metadata": {},
          "output_type": "execute_result"
        }
      ],
      "source": [
        "X_test.shape"
      ]
    },
    {
      "cell_type": "code",
      "execution_count": null,
      "metadata": {
        "colab": {
          "base_uri": "https://localhost:8080/"
        },
        "id": "r65llA7HAgso",
        "outputId": "d34866a7-bb03-46d7-e6b8-c9c4014ce03a"
      },
      "outputs": [
        {
          "name": "stdout",
          "output_type": "stream",
          "text": [
            "Accuracy: 99.81%\n"
          ]
        }
      ],
      "source": [
        "# Calculate the accuracy\n",
        "accuracy = accuracy_score(y_test, xgboost_y_pred)\n",
        "print(\"Accuracy: {:.2f}%\".format(accuracy * 100))"
      ]
    },
    {
      "cell_type": "code",
      "execution_count": null,
      "metadata": {
        "id": "NKbbQd5Qm7JM"
      },
      "outputs": [],
      "source": [
        "# Get the predicted probabilities from the XGBoost model\n",
        "xgboost_probs = xgb_model.predict_proba(X_test)"
      ]
    },
    {
      "cell_type": "code",
      "execution_count": null,
      "metadata": {
        "colab": {
          "base_uri": "https://localhost:8080/"
        },
        "id": "LttnBWoCeCWF",
        "outputId": "20fc8b40-3f93-476d-f12e-4a1703b99ed9"
      },
      "outputs": [
        {
          "name": "stdout",
          "output_type": "stream",
          "text": [
            "              precision    recall  f1-score   support\n",
            "\n",
            "           0       1.00      1.00      1.00      9224\n",
            "           1       1.00      1.00      1.00     13386\n",
            "           2       0.99      1.00      0.99      2373\n",
            "           3       0.95      0.98      0.97       201\n",
            "           4       0.67      0.73      0.70        11\n",
            "\n",
            "    accuracy                           1.00     25195\n",
            "   macro avg       0.92      0.94      0.93     25195\n",
            "weighted avg       1.00      1.00      1.00     25195\n",
            "\n"
          ]
        }
      ],
      "source": [
        "# Print the classification report\n",
        "report = classification_report(y_test, xgboost_y_pred)\n",
        "print(report)"
      ]
    },
    {
      "cell_type": "code",
      "execution_count": null,
      "metadata": {
        "colab": {
          "base_uri": "https://localhost:8080/"
        },
        "id": "P0n7Rk3gi2lN",
        "outputId": "0e34caa5-baf9-4a4a-be52-c60b0d8c8f92"
      },
      "outputs": [
        {
          "data": {
            "text/plain": [
              "(25195,)"
            ]
          },
          "execution_count": 39,
          "metadata": {},
          "output_type": "execute_result"
        }
      ],
      "source": [
        "y_test.shape"
      ]
    },
    {
      "cell_type": "code",
      "execution_count": null,
      "metadata": {
        "id": "WSnoppcke0Sh"
      },
      "outputs": [],
      "source": [
        "import pickle\n",
        "\n",
        "# Assume that 'model' is your trained CNN model\n",
        "with open('/content/drive/MyDrive/ML on Cyber Security Dataset/MS Thesis Report/Working March 2023/Models/NSL KDD 5 clasess/xgb_model.pkl', 'wb') as f:\n",
        "    pickle.dump(xgb_model, f)"
      ]
    },
    {
      "cell_type": "code",
      "execution_count": null,
      "metadata": {
        "id": "YXM9QwKbUuFw"
      },
      "outputs": [],
      "source": []
    },
    {
      "cell_type": "markdown",
      "metadata": {
        "id": "beeBCs0hWZoT"
      },
      "source": [
        "# New Section\n",
        "# Ensembel XGBoost and DNN on NSL KDD dataset"
      ]
    },
    {
      "cell_type": "code",
      "execution_count": null,
      "metadata": {
        "id": "BrWs8Y39miP3"
      },
      "outputs": [],
      "source": [
        "# Combine the probabilities by averaging\n",
        "ensemble_probs = (xgboost_probs + dnn_probs) / 2\n"
      ]
    },
    {
      "cell_type": "code",
      "execution_count": null,
      "metadata": {
        "id": "dP_1Bni5r0qt"
      },
      "outputs": [],
      "source": [
        "# Apply softmax normalization\n",
        "def softmax(x):\n",
        "    e_x = np.exp(x - np.max(x, axis=1, keepdims=True))\n",
        "    return e_x / np.sum(e_x, axis=1, keepdims=True)\n",
        "\n",
        "ensemble_probs = softmax(ensemble_probs)"
      ]
    },
    {
      "cell_type": "code",
      "execution_count": null,
      "metadata": {
        "id": "0PhTD3XRxYvL"
      },
      "outputs": [],
      "source": [
        "import pickle\n",
        "\n",
        "\n",
        "# Assume that 'model' is your trained CNN model\n",
        "with open('/content/drive/MyDrive/ML on Cyber Security Dataset/MS Thesis Report/Working March 2023/Models/NSL KDD 5 clasess/ensemble_probs.pkl', 'wb') as f:\n",
        "    pickle.dump(ensemble_probs, f)"
      ]
    },
    {
      "cell_type": "code",
      "execution_count": null,
      "metadata": {
        "id": "qP2Uy1Hbr5I8"
      },
      "outputs": [],
      "source": [
        "from sklearn.metrics import accuracy_score, classification_report, confusion_matrix\n",
        "\n",
        "# Assuming you have the true labels for the test data as y_test\n",
        "\n",
        "# Convert ensemble probabilities into class labels\n",
        "ensemble_labels = np.argmax(ensemble_probs, axis=1)\n",
        "\n"
      ]
    },
    {
      "cell_type": "markdown",
      "metadata": {
        "id": "NADw8exG5o5w"
      },
      "source": [
        "## Performance Matrix"
      ]
    },
    {
      "cell_type": "code",
      "execution_count": null,
      "metadata": {
        "colab": {
          "base_uri": "https://localhost:8080/"
        },
        "id": "aLqVh8Owr9FX",
        "outputId": "fa4a726f-0fba-40c1-d5f8-996f425d1460"
      },
      "outputs": [
        {
          "name": "stdout",
          "output_type": "stream",
          "text": [
            "Accuracy: 0.9975391942845803\n"
          ]
        }
      ],
      "source": [
        "# Calculate accuracy\n",
        "accuracy = accuracy_score(y_test, ensemble_labels)\n",
        "print(\"Accuracy:\", accuracy)\n",
        "\n"
      ]
    },
    {
      "cell_type": "code",
      "execution_count": null,
      "metadata": {
        "colab": {
          "base_uri": "https://localhost:8080/"
        },
        "id": "KP2fkYNTr_yP",
        "outputId": "62557262-775f-4b56-cc7e-e55c5d196bfc"
      },
      "outputs": [
        {
          "name": "stdout",
          "output_type": "stream",
          "text": [
            "Classification Report:\n",
            "              precision    recall  f1-score   support\n",
            "\n",
            "           0       1.00      1.00      1.00      9224\n",
            "           1       1.00      1.00      1.00     13386\n",
            "           2       0.99      1.00      0.99      2373\n",
            "           3       0.93      0.99      0.96       201\n",
            "           4       0.54      0.64      0.58        11\n",
            "\n",
            "    accuracy                           1.00     25195\n",
            "   macro avg       0.89      0.92      0.91     25195\n",
            "weighted avg       1.00      1.00      1.00     25195\n",
            "\n"
          ]
        }
      ],
      "source": [
        "# Generate classification report\n",
        "report = classification_report(y_test, ensemble_labels)\n",
        "print(\"Classification Report:\")\n",
        "print(report)\n",
        "\n"
      ]
    },
    {
      "cell_type": "code",
      "execution_count": null,
      "metadata": {
        "colab": {
          "base_uri": "https://localhost:8080/"
        },
        "id": "nCbj9iFusBVR",
        "outputId": "b4dc5db3-453c-4356-bb9d-f628467253b1"
      },
      "outputs": [
        {
          "name": "stdout",
          "output_type": "stream",
          "text": [
            "Confusion Matrix:\n",
            "[[ 9211     4     9     0     0]\n",
            " [    6 13348    17    10     5]\n",
            " [    0     1  2369     3     0]\n",
            " [    1     1     0   198     1]\n",
            " [    0     1     1     2     7]]\n"
          ]
        }
      ],
      "source": [
        "# Compute confusion matrix\n",
        "conf_matrix = confusion_matrix(y_test, ensemble_labels)\n",
        "print(\"Confusion Matrix:\")\n",
        "print(conf_matrix)\n"
      ]
    },
    {
      "cell_type": "code",
      "execution_count": null,
      "metadata": {
        "colab": {
          "base_uri": "https://localhost:8080/",
          "height": 477
        },
        "id": "8bI-JTpz8ezf",
        "outputId": "4360a00b-c80e-43ba-ba7f-4b61c12aec60"
      },
      "outputs": [
        {
          "data": {
            "image/png": "[encoded data removed]",
            "text/plain": [
              "<Figure size 640x480 with 1 Axes>"
            ]
          },
          "metadata": {},
          "output_type": "display_data"
        }
      ],
      "source": [
        "import numpy as np\n",
        "import matplotlib.pyplot as plt\n",
        "from sklearn.metrics import roc_curve, auc\n",
        "from tensorflow.keras.utils import to_categorical\n",
        "\n",
        "# Assuming you have the true labels for the test data as y_test\n",
        "# Assuming you have the ensemble probabilities from the ensemble model as ensemble_probs\n",
        "\n",
        "# Convert ensemble probabilities into class labels\n",
        "ensemble_labels = np.argmax(ensemble_probs, axis=1)\n",
        "\n",
        "# Convert true labels into one-hot encoded format\n",
        "y_true = to_categorical(y_test)\n",
        "\n",
        "# Define the number of classes\n",
        "num_classes = y_true.shape[1]\n",
        "\n",
        "# Define class label names\n",
        "label_names = {\n",
        "     0: \"Normal\",\n",
        "    1: \"DoS\",\n",
        "    2: \"Probe\",\n",
        "    3: \"R2L\",\n",
        "    4: \"U2R\",\n",
        "\n",
        "}\n",
        "\n",
        "# Calculate the FPR, TPR, and thresholds for each class\n",
        "fpr = dict()\n",
        "tpr = dict()\n",
        "roc_auc = dict()\n",
        "for i in range(num_classes):\n",
        "    fpr[i], tpr[i], _ = roc_curve(y_true[:, i], ensemble_probs[:, i])\n",
        "    roc_auc[i] = auc(fpr[i], tpr[i])\n",
        "\n",
        "# Plot all ROC curves in one graph\n",
        "plt.figure()\n",
        "for i in range(num_classes):\n",
        "    plt.plot(fpr[i], tpr[i], label='{} (AUC = {:.2f})'.format(label_names[i], roc_auc[i]))\n",
        "plt.plot([0, 1], [0, 1], 'k--', label='Random')\n",
        "plt.xlabel('False Positive Rate')\n",
        "plt.ylabel('True Positive Rate')\n",
        "plt.title('ROC Curve')\n",
        "plt.legend(loc='lower right')\n",
        "plt.show()\n",
        "# Save the ROC curve as an image file\n",
        "plt.savefig('All_roc_curve.png'.format(i))  # Change the file name as desired\n",
        "plt.close()\n"
      ]
    },
    {
      "cell_type": "code",
      "execution_count": null,
      "metadata": {
        "colab": {
          "base_uri": "https://localhost:8080/",
          "height": 1000
        },
        "id": "t-ig88Mi6SBm",
        "outputId": "c7e03a7c-fb3d-4112-e65e-0cd6e0212a63"
      },
      "outputs": [
        {
          "data": {
            "image/png": "[encoded data removed]",
            "text/plain": [
              "<Figure size 640x480 with 1 Axes>"
            ]
          },
          "metadata": {},
          "output_type": "display_data"
        },
        {
          "data": {
            "image/png": "[encoded data removed]",
            "text/plain": [
              "<Figure size 640x480 with 1 Axes>"
            ]
          },
          "metadata": {},
          "output_type": "display_data"
        },
        {
          "data": {
            "image/png": "[encoded data removed]",
            "text/plain": [
              "<Figure size 640x480 with 1 Axes>"
            ]
          },
          "metadata": {},
          "output_type": "display_data"
        },
        {
          "data": {
            "image/png": "[encoded data removed]",
            "text/plain": [
              "<Figure size 640x480 with 1 Axes>"
            ]
          },
          "metadata": {},
          "output_type": "display_data"
        },
        {
          "data": {
            "image/png": "[encoded data removed]",
            "text/plain": [
              "<Figure size 640x480 with 1 Axes>"
            ]
          },
          "metadata": {},
          "output_type": "display_data"
        }
      ],
      "source": [
        "import numpy as np\n",
        "import matplotlib.pyplot as plt\n",
        "from sklearn.metrics import roc_curve, auc\n",
        "from tensorflow.keras.utils import to_categorical\n",
        "\n",
        "# Assuming you have the true labels for the test data as y_test\n",
        "# Assuming you have the ensemble probabilities from the ensemble model as ensemble_probs\n",
        "\n",
        "# Convert ensemble probabilities into class labels\n",
        "ensemble_labels = np.argmax(ensemble_probs, axis=1)\n",
        "\n",
        "# Convert true labels into one-hot encoded format\n",
        "y_true = to_categorical(y_test)\n",
        "\n",
        "# Define the number of classes\n",
        "num_classes = y_true.shape[1]\n",
        "\n",
        "# Define class label names\n",
        "label_names = {\n",
        "     0: \"Normal\",\n",
        "    1: \"DoS\",\n",
        "    2: \"Probe\",\n",
        "    3: \"R2L\",\n",
        "    4: \"U2R\",\n",
        "}\n",
        "\n",
        "# Calculate the FPR, TPR, and thresholds for each class\n",
        "fpr = dict()\n",
        "tpr = dict()\n",
        "roc_auc = dict()\n",
        "for i in range(num_classes):\n",
        "    fpr[i], tpr[i], _ = roc_curve(y_true[:, i], ensemble_probs[:, i])\n",
        "    roc_auc[i] = auc(fpr[i], tpr[i])\n",
        "    # Plot the ROC curve for each class\n",
        "    plt.figure()\n",
        "    plt.plot(fpr[i], tpr[i], label='{} (AUC = {:.2f})'.format(label_names[i], roc_auc[i]))\n",
        "    plt.plot([0, 1], [0, 1], 'k--', label='Random')\n",
        "    plt.xlabel('False Positive Rate')\n",
        "    plt.ylabel('True Positive Rate')\n",
        "    plt.title('ROC Curve - {}'.format(label_names[i]))\n",
        "    plt.legend(loc='lower right')\n",
        "    plt.show()\n",
        "    # Save the ROC curve as an image file\n",
        "    plt.savefig('roc_curve_class{}.png'.format(i))  # Change the file name as desired\n",
        "    plt.close()\n"
      ]
    },
    {
      "cell_type": "markdown",
      "metadata": {
        "id": "fIig8JESUuRf"
      },
      "source": [
        "# New Section\n",
        "# Naive Bayes"
      ]
    },
    {
      "cell_type": "code",
      "execution_count": null,
      "metadata": {
        "colab": {
          "base_uri": "https://localhost:8080/",
          "height": 75
        },
        "id": "vxOo8Pj_b6py",
        "outputId": "aed0dad0-5cf1-47e0-bf34-610eef3a5384"
      },
      "outputs": [
        {
          "data": {
            "text/html": [
              "<style>#sk-container-id-3 {color: black;background-color: white;}#sk-container-id-3 pre{padding: 0;}#sk-container-id-3 div.sk-toggleable {background-color: white;}#sk-container-id-3 label.sk-toggleable__label {cursor: pointer;display: block;width: 100%;margin-bottom: 0;padding: 0.3em;box-sizing: border-box;text-align: center;}#sk-container-id-3 label.sk-toggleable__label-arrow:before {content: \"▸\";float: left;margin-right: 0.25em;color: #696969;}#sk-container-id-3 label.sk-toggleable__label-arrow:hover:before {color: black;}#sk-container-id-3 div.sk-estimator:hover label.sk-toggleable__label-arrow:before {color: black;}#sk-container-id-3 div.sk-toggleable__content {max-height: 0;max-width: 0;overflow: hidden;text-align: left;background-color: #f0f8ff;}#sk-container-id-3 div.sk-toggleable__content pre {margin: 0.2em;color: black;border-radius: 0.25em;background-color: #f0f8ff;}#sk-container-id-3 input.sk-toggleable__control:checked~div.sk-toggleable__content {max-height: 200px;max-width: 100%;overflow: auto;}#sk-container-id-3 input.sk-toggleable__control:checked~label.sk-toggleable__label-arrow:before {content: \"▾\";}#sk-container-id-3 div.sk-estimator input.sk-toggleable__control:checked~label.sk-toggleable__label {background-color: #d4ebff;}#sk-container-id-3 div.sk-label input.sk-toggleable__control:checked~label.sk-toggleable__label {background-color: #d4ebff;}#sk-container-id-3 input.sk-hidden--visually {border: 0;clip: rect(1px 1px 1px 1px);clip: rect(1px, 1px, 1px, 1px);height: 1px;margin: -1px;overflow: hidden;padding: 0;position: absolute;width: 1px;}#sk-container-id-3 div.sk-estimator {font-family: monospace;background-color: #f0f8ff;border: 1px dotted black;border-radius: 0.25em;box-sizing: border-box;margin-bottom: 0.5em;}#sk-container-id-3 div.sk-estimator:hover {background-color: #d4ebff;}#sk-container-id-3 div.sk-parallel-item::after {content: \"\";width: 100%;border-bottom: 1px solid gray;flex-grow: 1;}#sk-container-id-3 div.sk-label:hover label.sk-toggleable__label {background-color: #d4ebff;}#sk-container-id-3 div.sk-serial::before {content: \"\";position: absolute;border-left: 1px solid gray;box-sizing: border-box;top: 0;bottom: 0;left: 50%;z-index: 0;}#sk-container-id-3 div.sk-serial {display: flex;flex-direction: column;align-items: center;background-color: white;padding-right: 0.2em;padding-left: 0.2em;position: relative;}#sk-container-id-3 div.sk-item {position: relative;z-index: 1;}#sk-container-id-3 div.sk-parallel {display: flex;align-items: stretch;justify-content: center;background-color: white;position: relative;}#sk-container-id-3 div.sk-item::before, #sk-container-id-3 div.sk-parallel-item::before {content: \"\";position: absolute;border-left: 1px solid gray;box-sizing: border-box;top: 0;bottom: 0;left: 50%;z-index: -1;}#sk-container-id-3 div.sk-parallel-item {display: flex;flex-direction: column;z-index: 1;position: relative;background-color: white;}#sk-container-id-3 div.sk-parallel-item:first-child::after {align-self: flex-end;width: 50%;}#sk-container-id-3 div.sk-parallel-item:last-child::after {align-self: flex-start;width: 50%;}#sk-container-id-3 div.sk-parallel-item:only-child::after {width: 0;}#sk-container-id-3 div.sk-dashed-wrapped {border: 1px dashed gray;margin: 0 0.4em 0.5em 0.4em;box-sizing: border-box;padding-bottom: 0.4em;background-color: white;}#sk-container-id-3 div.sk-label label {font-family: monospace;font-weight: bold;display: inline-block;line-height: 1.2em;}#sk-container-id-3 div.sk-label-container {text-align: center;}#sk-container-id-3 div.sk-container {/* jupyter's `normalize.less` sets `[hidden] { display: none; }` but bootstrap.min.css set `[hidden] { display: none !important; }` so we also need the `!important` here to be able to override the default hidden behavior on the sphinx rendered scikit-learn.org. See: https://github.com/scikit-learn/scikit-learn/issues/21755 */display: inline-block !important;position: relative;}#sk-container-id-3 div.sk-text-repr-fallback {display: none;}</style><div id=\"sk-container-id-3\" class=\"sk-top-container\"><div class=\"sk-text-repr-fallback\"><pre>GaussianNB()</pre><b>In a Jupyter environment, please rerun this cell to show the HTML representation or trust the notebook. <br />On GitHub, the HTML representation is unable to render, please try loading this page with nbviewer.org.</b></div><div class=\"sk-container\" hidden><div class=\"sk-item\"><div class=\"sk-estimator sk-toggleable\"><input class=\"sk-toggleable__control sk-hidden--visually\" id=\"sk-estimator-id-3\" type=\"checkbox\" checked><label for=\"sk-estimator-id-3\" class=\"sk-toggleable__label sk-toggleable__label-arrow\">GaussianNB</label><div class=\"sk-toggleable__content\"><pre>GaussianNB()</pre></div></div></div></div></div>"
            ],
            "text/plain": [
              "GaussianNB()"
            ]
          },
          "execution_count": 31,
          "metadata": {},
          "output_type": "execute_result"
        }
      ],
      "source": [
        "from sklearn.naive_bayes import GaussianNB\n",
        "from sklearn.metrics import classification_report\n",
        "\n",
        "# Assuming you have preprocessed and split your dataset into X_train, X_test, y_train, y_test\n",
        "\n",
        "# Instantiate a Gaussian Naive Bayes model\n",
        "naive_bayes = GaussianNB()\n",
        "\n",
        "# Train the model\n",
        "naive_bayes.fit(X_train, y_train)\n",
        "\n"
      ]
    },
    {
      "cell_type": "code",
      "execution_count": null,
      "metadata": {
        "id": "PR26MB7izUa6"
      },
      "outputs": [],
      "source": [
        "\n",
        "# Make predictions on the test data\n",
        "y_pred = naive_bayes.predict(X_test)"
      ]
    },
    {
      "cell_type": "code",
      "execution_count": null,
      "metadata": {
        "colab": {
          "base_uri": "https://localhost:8080/"
        },
        "id": "WPCBxLlFzBOq",
        "outputId": "0bf79477-3cc4-4b86-e49f-683fa0389d5f"
      },
      "outputs": [
        {
          "name": "stdout",
          "output_type": "stream",
          "text": [
            "Classification Report:\n",
            "              precision    recall  f1-score   support\n",
            "\n",
            "           0       0.98      0.87      0.92      9224\n",
            "           1       0.97      0.72      0.83     13386\n",
            "           2       0.57      0.83      0.68      2373\n",
            "           3       0.28      0.44      0.34       201\n",
            "           4       0.00      0.91      0.01        11\n",
            "\n",
            "    accuracy                           0.79     25195\n",
            "   macro avg       0.56      0.75      0.55     25195\n",
            "weighted avg       0.93      0.79      0.84     25195\n",
            "\n",
            "Accuracy: 0.7854733081960706\n",
            "Confusion Matrix:\n",
            "[[8042  245  663   29  245]\n",
            " [ 170 9678  816  199 2523]\n",
            " [  25   28 1972    1  347]\n",
            " [   1    1    2   88  109]\n",
            " [   1    0    0    0   10]]\n"
          ]
        }
      ],
      "source": [
        "# Print the classification report\n",
        "print(\"Classification Report:\")\n",
        "print(classification_report(y_test, y_pred))\n",
        "\n",
        "# Print the accuracy\n",
        "accuracy = accuracy_score(y_test, y_pred)\n",
        "print(\"Accuracy:\", accuracy)\n",
        "\n",
        "# Print the confusion matrix\n",
        "cm = confusion_matrix(y_test, y_pred)\n",
        "print(\"Confusion Matrix:\")\n",
        "print(cm)"
      ]
    },
    {
      "cell_type": "markdown",
      "metadata": {
        "id": "4hmv7xg3UuW8"
      },
      "source": [
        "# New Section\n",
        "# LR"
      ]
    },
    {
      "cell_type": "code",
      "execution_count": null,
      "metadata": {
        "id": "Anj-IQBVkFtw"
      },
      "outputs": [],
      "source": []
    },
    {
      "cell_type": "code",
      "execution_count": null,
      "metadata": {
        "id": "R0dsCyp3kQla"
      },
      "outputs": [],
      "source": [
        "from sklearn.svm import SVC\n",
        "from sklearn.model_selection import GridSearchCV\n",
        "from sklearn.pipeline import make_pipeline\n",
        "from sklearn.preprocessing import StandardScaler\n",
        "from joblib import parallel_backend\n",
        "\n",
        "# Create a pipeline with SVM\n",
        "pipeline = make_pipeline(StandardScaler(), SVC())\n",
        "\n",
        "# Define the hyperparameter grid for GridSearchCV\n",
        "param_grid = {\n",
        "    'svc__C': [0.1, 1, 10],\n",
        "    'svc__kernel': ['linear', 'rbf']\n",
        "}\n",
        "\n",
        "# Perform grid search with parallel processing\n",
        "with parallel_backend('multiprocessing'):\n",
        "    grid_search = GridSearchCV(pipeline, param_grid, cv=5)\n",
        "    grid_search.fit(X_train, y_train)\n",
        "\n",
        "# Get the best model and its parameters\n",
        "best_model = grid_search.best_estimator_\n",
        "best_params = grid_search.best_params_\n",
        "\n",
        "\n"
      ]
    },
    {
      "cell_type": "code",
      "execution_count": null,
      "metadata": {
        "id": "2pM-wzAWzH4M"
      },
      "outputs": [],
      "source": [
        "# Make predictions with the best model\n",
        "y_pred = best_model.predict(X_test)"
      ]
    },
    {
      "cell_type": "code",
      "execution_count": null,
      "metadata": {
        "colab": {
          "base_uri": "https://localhost:8080/"
        },
        "id": "RxHTV_KSyz7P",
        "outputId": "0406b9b9-90a4-4fd5-bdba-8a3c0913e53c"
      },
      "outputs": [
        {
          "name": "stdout",
          "output_type": "stream",
          "text": [
            "Classification Report:\n",
            "              precision    recall  f1-score   support\n",
            "\n",
            "           0       1.00      1.00      1.00      9224\n",
            "           1       1.00      1.00      1.00     13386\n",
            "           2       0.98      0.99      0.99      2373\n",
            "           3       0.94      0.95      0.95       201\n",
            "           4       1.00      0.55      0.71        11\n",
            "\n",
            "    accuracy                           1.00     25195\n",
            "   macro avg       0.98      0.90      0.93     25195\n",
            "weighted avg       1.00      1.00      1.00     25195\n",
            "\n",
            "Accuracy: 0.9961500297678111\n",
            "Confusion Matrix:\n",
            "[[ 9209     7     8     0     0]\n",
            " [    8 13339    31     8     0]\n",
            " [   10     9  2353     1     0]\n",
            " [    2     2     6   191     0]\n",
            " [    0     1     1     3     6]]\n"
          ]
        }
      ],
      "source": [
        "# Print the classification report\n",
        "print(\"Classification Report:\")\n",
        "print(classification_report(y_test, y_pred))\n",
        "\n",
        "# Print the accuracy\n",
        "accuracy = accuracy_score(y_test, y_pred)\n",
        "print(\"Accuracy:\", accuracy)\n",
        "\n",
        "# Print the confusion matrix\n",
        "cm = confusion_matrix(y_test, y_pred)\n",
        "print(\"Confusion Matrix:\")\n",
        "print(cm)"
      ]
    },
    {
      "cell_type": "code",
      "execution_count": null,
      "metadata": {
        "id": "IHkw3O8lkF0_"
      },
      "outputs": [],
      "source": []
    },
    {
      "cell_type": "markdown",
      "metadata": {
        "id": "0kh5rmHeUuam"
      },
      "source": [
        "# New Section"
      ]
    }
  ],
  "metadata": {
    "colab": {
      "provenance": []
    },
    "kernelspec": {
      "display_name": "Python 3",
      "name": "python3"
    },
    "language_info": {
      "name": "python"
    }
  },
  "nbformat": 4,
  "nbformat_minor": 0
}
